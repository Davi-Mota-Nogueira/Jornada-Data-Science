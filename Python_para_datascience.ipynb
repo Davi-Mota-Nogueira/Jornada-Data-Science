{
  "nbformat": 4,
  "nbformat_minor": 0,
  "metadata": {
    "colab": {
      "provenance": [],
      "authorship_tag": "ABX9TyNasuTqrbKMKm1f8sVngwgI",
      "include_colab_link": true
    },
    "kernelspec": {
      "name": "python3",
      "display_name": "Python 3"
    },
    "language_info": {
      "name": "python"
    }
  },
  "cells": [
    {
      "cell_type": "markdown",
      "metadata": {
        "id": "view-in-github",
        "colab_type": "text"
      },
      "source": [
        "<a href=\"https://colab.research.google.com/github/Davi-Mota-Nogueira/Jornada-Data-Science/blob/main/Python_para_datascience.ipynb\" target=\"_parent\"><img src=\"https://colab.research.google.com/assets/colab-badge.svg\" alt=\"Open In Colab\"/></a>"
      ]
    },
    {
      "cell_type": "markdown",
      "source": [
        "# Notebook para Curso de Python para Ciência de Dados da Alura"
      ],
      "metadata": {
        "id": "Ge-OeWWzrWhc"
      }
    },
    {
      "cell_type": "markdown",
      "source": [
        "## 1. Introdução(\"Hello, World!\")"
      ],
      "metadata": {
        "id": "gP7-TH8wrflX"
      }
    },
    {
      "cell_type": "markdown",
      "source": [
        "### Começando com o famoso *Hello, World!* Utilizaremos o `print()`"
      ],
      "metadata": {
        "id": "-5CofN2przIJ"
      }
    },
    {
      "cell_type": "code",
      "source": [
        "print('Hello, World!')\n",
        "print(10, float(15))\n",
        "print('Davi: ', int('26'), 'anos')"
      ],
      "metadata": {
        "colab": {
          "base_uri": "https://localhost:8080/"
        },
        "id": "EEcG0GjWrfBb",
        "outputId": "d8492538-8ed9-4e25-f00d-717cc2b2d08f"
      },
      "execution_count": null,
      "outputs": [
        {
          "output_type": "stream",
          "name": "stdout",
          "text": [
            "Hello, World!\n",
            "10 15.0\n",
            "Davi:  26 anos\n"
          ]
        }
      ]
    },
    {
      "cell_type": "markdown",
      "source": [
        "### Exercícios propostos:"
      ],
      "metadata": {
        "id": "XDYtIZCbyOND"
      }
    },
    {
      "cell_type": "markdown",
      "source": [
        "#### 1. Imprima a frase *Escola de Dados da Alura!*."
      ],
      "metadata": {
        "id": "ToyEQghGyaGb"
      }
    },
    {
      "cell_type": "code",
      "source": [
        "print('Escola de Dados da Alura!')"
      ],
      "metadata": {
        "colab": {
          "base_uri": "https://localhost:8080/"
        },
        "id": "MegDrnFXyjfU",
        "outputId": "5e8150d7-885b-4fec-80ec-0ab98fe7ca6b"
      },
      "execution_count": null,
      "outputs": [
        {
          "output_type": "stream",
          "name": "stdout",
          "text": [
            "Escola de Dados da Alura!\n"
          ]
        }
      ]
    },
    {
      "cell_type": "markdown",
      "source": [
        "#### 2. Imprima seu nome e seu sobrenome seguindo a estrutura abaixo:\n",
        "Nome: [*seu nome*] \\\n",
        "Sobrenome: [*seu sobrenome*]"
      ],
      "metadata": {
        "id": "PDDo6BVaypot"
      }
    },
    {
      "cell_type": "code",
      "source": [
        "nome = 'Davi'\n",
        "sobrenome = 'da Mota Nogueira'\n",
        "print('Nome:',nome)\n",
        "print('Sobrenome:',sobrenome)"
      ],
      "metadata": {
        "colab": {
          "base_uri": "https://localhost:8080/"
        },
        "id": "98Qxtvaxy-zI",
        "outputId": "90ba389d-db09-4c1d-e689-b53909101757"
      },
      "execution_count": null,
      "outputs": [
        {
          "output_type": "stream",
          "name": "stdout",
          "text": [
            "Nome: Davi\n",
            "Sobrenome: da Mota Nogueira\n"
          ]
        }
      ]
    },
    {
      "cell_type": "markdown",
      "source": [
        "#### 3. Imprima o seu primeiro nome letra a letra. Por exemplo, meu nome é Mirla, então eu obtenho a seguinte saída:\n",
        "M \\\n",
        "I \\\n",
        "R \\\n",
        "L \\\n",
        "A \\"
      ],
      "metadata": {
        "id": "P-BoF-mdy-T_"
      }
    },
    {
      "cell_type": "code",
      "source": [
        "for letra in nome:\n",
        "  if(letra in ['a','e','i','o','u','A','E','I','O','U']):\n",
        "    print(letra,'RED')\n",
        "  else:\n",
        "    print(letra)"
      ],
      "metadata": {
        "colab": {
          "base_uri": "https://localhost:8080/"
        },
        "id": "BvQpZLM_zhjr",
        "outputId": "042ed4ed-20e9-4a2f-b6e3-45b28636700e"
      },
      "execution_count": null,
      "outputs": [
        {
          "output_type": "stream",
          "name": "stdout",
          "text": [
            "D\n",
            "a RED\n",
            "v\n",
            "i RED\n"
          ]
        }
      ]
    },
    {
      "cell_type": "markdown",
      "source": [
        "#### 4. Imprima o dia do seu nascimento em formato dia mês ano. Lembrando que os valores de dia e ano não podem estar entre aspas. Supondo uma data de aniversário dia 28 de fevereiro de 2003, o formato deve estar como no exemplo abaixo:\n",
        "28 fevereiro 2003\n"
      ],
      "metadata": {
        "id": "y0Dt2EoL0bK-"
      }
    },
    {
      "cell_type": "code",
      "source": [
        "print(22, 'novembro', 1998)"
      ],
      "metadata": {
        "colab": {
          "base_uri": "https://localhost:8080/"
        },
        "id": "v1t9bJEO1vG0",
        "outputId": "03813eff-03b4-4a06-9767-427b4b15792b"
      },
      "execution_count": null,
      "outputs": [
        {
          "output_type": "stream",
          "name": "stdout",
          "text": [
            "22 novembro 1998\n"
          ]
        }
      ]
    },
    {
      "cell_type": "markdown",
      "source": [
        "#### 5. Imprima, em um único print, o atual ano que você está fazendo esse curso. O valor do ano deve ser um dado numérico e a saída do print deve ser a seguinte:\n",
        "Ano atual: [*ano*]"
      ],
      "metadata": {
        "id": "Vi9jNAKe2HBJ"
      }
    },
    {
      "cell_type": "code",
      "source": [
        "from datetime import date\n",
        "ano_atual = str(date.today().year)\n",
        "print('Ano atual:', ano_atual)"
      ],
      "metadata": {
        "colab": {
          "base_uri": "https://localhost:8080/"
        },
        "id": "-ZPvL6nw2sb7",
        "outputId": "22d58aec-23ff-4b52-912a-8b3cf24a8445"
      },
      "execution_count": null,
      "outputs": [
        {
          "output_type": "stream",
          "name": "stdout",
          "text": [
            "Ano atual: 2025\n"
          ]
        }
      ]
    },
    {
      "cell_type": "markdown",
      "source": [
        "## 2. Manipulando Dados"
      ],
      "metadata": {
        "id": "zr5OJS3lue9q"
      }
    },
    {
      "cell_type": "markdown",
      "source": [
        "### Variáveis e Atribuições"
      ],
      "metadata": {
        "id": "CMwe2yPgcjjS"
      }
    },
    {
      "cell_type": "code",
      "source": [
        "'''\n",
        "Comentário Legal\n",
        "Com mais de uma linha\n",
        "'''\n",
        "variavel_legal = 5\n",
        "print('Tipo da variavel_legal: ', type(variavel_legal))\n",
        "variavel_legal = 23.6\n",
        "print('Tipo da variavel_legal: ', type(variavel_legal))\n",
        "variavel_legal = 'Giropongas'\n",
        "print('Tipo da variavel_legal: ', type(variavel_legal))\n",
        "variavel_legal = True\n",
        "print('Tipo da variavel_legal: ', type(variavel_legal))"
      ],
      "metadata": {
        "colab": {
          "base_uri": "https://localhost:8080/"
        },
        "id": "qeBAoMRVczN5",
        "outputId": "355a01c1-f360-4e78-c0c0-ab0ff4bb6258"
      },
      "execution_count": null,
      "outputs": [
        {
          "output_type": "stream",
          "name": "stdout",
          "text": [
            "Tipo da variavel_legal:  <class 'int'>\n",
            "Tipo da variavel_legal:  <class 'float'>\n",
            "Tipo da variavel_legal:  <class 'str'>\n",
            "Tipo da variavel_legal:  <class 'bool'>\n"
          ]
        }
      ]
    },
    {
      "cell_type": "code",
      "source": [
        "# Mais exemplos de veriáveis\n",
        "q_seguranca = 5\n",
        "s_seguranca = 3000\n",
        "\n",
        "q_docente = 16\n",
        "s_docente = 6000\n",
        "\n",
        "q_diretoria = 1\n",
        "s_diretoria = 12500\n",
        "\n",
        "total_funcionarios = q_seguranca + q_docente + q_diretoria\n",
        "print('Total de Funcionarios:', total_funcionarios)\n",
        "salario_total_seguranca = q_seguranca * s_seguranca\n",
        "print('Salário total do setor de segurança:', salario_total_seguranca)\n",
        "salario_total_docente = q_docente * s_docente\n",
        "print('Salário total do setor docente:', salario_total_docente)\n",
        "salario_total_diretoria = q_diretoria * q_diretoria\n",
        "print('Salário total do setor da diretoria:', salario_total_diretoria)\n",
        "salario_total_empresa = salario_total_seguranca + salario_total_docente + salario_total_diretoria\n",
        "print('Salário total da empresa:', salario_total_empresa)\n",
        "media_salarial = salario_total_empresa / total_funcionarios\n",
        "print('Média salarial da empresa:', media_salarial)"
      ],
      "metadata": {
        "id": "SE0TRNchfpqM"
      },
      "execution_count": null,
      "outputs": []
    },
    {
      "cell_type": "markdown",
      "source": [
        "### Desafios do Capítulo\n",
        "\n",
        "1. Crie um programa que solicite à pessoa usuária digitar seu nome, e imprima “Olá, [nome]!”.\n",
        "2. Crie um programa que solicite à pessoa usuária digitar seu nome e idade, e imprima “Olá, [nome], você tem [idade] anos.”.\n",
        "3. Crie um programa que solicite à pessoa usuária digitar seu nome, idade e altura em metros, e imprima “Olá, [nome], você tem [idade] anos e mede [altura] metros!”."
      ],
      "metadata": {
        "id": "zAwmkB6S4OuU"
      }
    },
    {
      "cell_type": "code",
      "source": [
        "# Número 1\n",
        "nome = input('Escreva seu nome: ')\n",
        "print(f'Olá, {nome}!')\n",
        "\n",
        "# Número 2\n",
        "nome = input('Digite seu nome:')\n",
        "idade = input('Agora a idade:')\n",
        "print(f'Olá, {nome}, você tem {idade} anos.')\n",
        "\n",
        "# Número 3\n",
        "nome = input('Digite seu nome:')\n",
        "idade = input('Agora a idade:')\n",
        "altura = input('Por último, a altura:')\n",
        "print(f'Olá, {nome}, você tem {idade} anos e mede {altura} metros!')"
      ],
      "metadata": {
        "colab": {
          "base_uri": "https://localhost:8080/"
        },
        "id": "5qRAem8w4qMt",
        "outputId": "91e336fb-7f0c-4559-c698-d15dc3d84e4a"
      },
      "execution_count": null,
      "outputs": [
        {
          "output_type": "stream",
          "name": "stdout",
          "text": [
            "Escreva seu nome: Davi\n",
            "Olá, Davi!\n",
            "Digite seu nome:Davi\n",
            "Agora a idade:26\n",
            "Olá, Davi, você tem 26 anos.\n",
            "Digite seu nome:Davi\n",
            "Agora a idade:26\n",
            "Por último, a altura:1,70\n",
            "Olá, Davi, você tem 26 anos e mede 1,70 metros!\n"
          ]
        }
      ]
    },
    {
      "cell_type": "markdown",
      "source": [
        "### Calculadora com operadores\n",
        "\n",
        "1. Crie um programa que solicite dois valores numéricos à pessoa usuária e imprima a soma dos dois valores.\n",
        "2. Crie um programa que solicite três valores numéricos à pessoa usuária e imprima a soma dos três valores.\n",
        "3. Crie um programa que solicite dois valores numéricos à pessoa usuária e imprima a subtração do primeiro pelo o segundo valor.\n",
        "4. Crie um programa que solicite dois valores numéricos à pessoa usuária e imprima a multiplicação dos dois valores.\n",
        "5. Crie um programa que solicite dois valores numéricos, um numerador e um denominador, e realize a divisão entre os dois valores. Deixe claro que o valor do denominador não pode ser 0.\n",
        "6. Crie um programa que solicite dois valores numéricos, um operador e uma potência, e realize a exponenciação entre esses dois valores.\n",
        "7. Crie um programa que solicite dois valores numéricos, um numerador e um denominador e realize a divisão inteira entre os dois valores. Deixe claro que o valor do denominador não pode ser 0.\n",
        "8. Crie um programa que solicite dois valores numéricos, um numerador e um denominador, e retorne o resto da divisão entre os dois valores. Deixe claro que o valor do denominador não pode ser 0.\n",
        "9. Crie um código que solicita 3 notas de um estudante e imprima a média das notas.\n",
        "10. Crie um código que calcule e imprima a média ponderada dos números 5, 12, 20 e 15 com pesos respectivamente iguais a 1, 2, 3 e 4."
      ],
      "metadata": {
        "id": "M_ch6sb45-yv"
      }
    },
    {
      "cell_type": "code",
      "source": [
        "# D1\n",
        "n1 = int(input('Digite primeiro número:'))\n",
        "n2 = int(input('Digite segundo número:'))\n",
        "print('Soma:',n1+n2)\n",
        "\n",
        "# D2\n",
        "n1 = int(input('Digite primeiro número:'))\n",
        "n2 = int(input('Digite segundo número:'))\n",
        "n3 = int(input('Digite terceiro número:'))\n",
        "print('Soma 3:',n1+n2+n3)\n",
        "\n",
        "# D3\n",
        "n1 = int(input('Digite primeiro número:'))\n",
        "n2 = int(input('Digite segundo número:'))\n",
        "print('Subtração',n1-n2)\n",
        "\n",
        "# D4\n",
        "n1 = int(input('Digite primeiro número:'))\n",
        "n2 = int(input('Digite segundo número:'))\n",
        "print('Multiplicação:',n1*n2)\n",
        "\n",
        "# D5\n",
        "n1 = int(input('Digite o numerador:'))\n",
        "n2 = int(input('Digite o denominador:'))\n",
        "while(n2 == 0):\n",
        "  n2 = int(input('O denominador não pode ser 0, coloque outro número:'))\n",
        "print('Divisão:',n1/n2)\n",
        "\n",
        "# D6\n",
        "n1 = int(input('Digite operador:'))\n",
        "n2 = int(input('Digite a potência:'))\n",
        "print('Potência:',n1**n2)\n",
        "\n",
        "# D7\n",
        "n1 = int(input('Digite o numerador:'))\n",
        "n2 = int(input('Digite o denominador:'))\n",
        "while(n2 == 0):\n",
        "  n2 = int(input('O denominador não pode ser 0, coloque outro número:'))\n",
        "print('Divisão Inteira:',n1//n2)\n",
        "\n",
        "# D8\n",
        "n1 = int(input('Digite o numerador:'))\n",
        "n2 = int(input('Digite o denominador:'))\n",
        "while(n2 == 0):\n",
        "  n2 = int(input('O denominador não pode ser 0, coloque outro número:'))\n",
        "print('Resto:',n1%n2)\n",
        "\n",
        "# D9\n",
        "n1 = int(input('Digite primeiro número:'))\n",
        "n2 = int(input('Digite segundo número:'))\n",
        "n3 = int(input('Digite terceiro número:'))\n",
        "print('Média:',(n1+n2+n3)/3)\n",
        "\n",
        "# D10\n",
        "num_medias = [5,12,20,15]\n",
        "pesos = [1,2,3.4]\n",
        "soma=0\n",
        "soma_denominador=0\n",
        "for x in range(len(num_medias)-1):\n",
        "  soma += (num_medias[x]*pesos[x])\n",
        "  soma_denominador += pesos[x]\n",
        "print('Media Ponderada:',soma/soma_denominador)"
      ],
      "metadata": {
        "id": "PTgkP55d6otZ"
      },
      "execution_count": null,
      "outputs": []
    },
    {
      "cell_type": "markdown",
      "source": [
        "### Editando textos\n",
        "\n",
        "1. Crie uma variável chamada “frase” e atribua a ela uma string de sua escolha. Em seguida, imprima a frase na tela.\n",
        "2.Crie um código que solicite uma frase e depois imprima a frase na tela.\n",
        "3. Crie um código que solicite uma frase à pessoa usuária e imprima a mesma frase digitada mas com todas as letras maiúsculas.\n",
        "4. Crie um código que solicite uma frase à pessoa usuária e imprima a mesma frase digitada mas com todas as letras minúsculas.\n",
        "5. Crie uma variável chamada “frase” e atribua a ela uma string de sua escolha. Em seguida, imprima a frase sem espaços em branco no início e no fim.\n",
        "6. Crie um código que solicite uma frase à pessoa usuária e imprima a mesma frase sem espaços em branco no início e no fim.\n",
        "7. Crie um código que solicite uma frase à pessoa usuária e imprima a mesma frase sem espaços em branco no início e no fim e em letras minúsculas.\n",
        "8. Crie um código que solicite uma frase à pessoa usuária e imprima a mesma frase com todas as vogais “e” trocadas pela letra “f”.\n",
        "9. Crie um código que solicite uma frase à pessoa usuária e imprima a mesma frase com todas as vogais “a” trocadas pela caractere “@”.\n",
        "10. Crie um código que solicite uma frase à pessoa usuária e imprima a mesma frase com todas as consoantes “s” trocadas pelo caractere “$”."
      ],
      "metadata": {
        "id": "qoxHLp4lYpqm"
      }
    },
    {
      "cell_type": "code",
      "source": [
        "# D1\n",
        "frase = 'Uma frase legal'\n",
        "\n",
        "# D2\n",
        "frase = input('Digita uma frase legal:')\n",
        "print(f'Frase: {frase}')\n",
        "\n",
        "# D3\n",
        "frase = input('Digita uma frase legal:')\n",
        "print(f'Frase: {frase.upper()}')\n",
        "\n",
        "# D4\n",
        "frase = input('Digita uma frase legal:')\n",
        "print(f'Frase: {frase.lower()}')\n",
        "\n",
        "# D5\n",
        "frase = 'Que frase bem divertida'.strip().replace(' ','')\n",
        "print(f'Frase: {frase}')\n",
        "\n",
        "# D6\n",
        "frase = input('Digita uma frase legal aí:').strip().replace(' ','')\n",
        "print(f'Frase: {frase}')\n",
        "\n",
        "# D7\n",
        "frase = input('Digita uma frase legal aí:').strip().replace(' ','').lower()\n",
        "print(f'Frase: {frase}')\n",
        "\n",
        "# D8\n",
        "frase = input('Digita uma frase legal aí:').strip().replace('e','f')\n",
        "print(f'Frase: {frase}')\n",
        "\n",
        "# D9\n",
        "frase = input('Digita uma frase legal aí:').strip().replace('a','@')\n",
        "print(f'Frase: {frase}')\n",
        "\n",
        "# D10\n",
        "frase = input('Digita uma frase legal aí:').strip().replace('s','$')\n",
        "print(f'Frase: {frase}')\n"
      ],
      "metadata": {
        "id": "NWj2UL8lY22i"
      },
      "execution_count": null,
      "outputs": []
    },
    {
      "cell_type": "markdown",
      "source": [
        "## 3. Estruturas Condicionais"
      ],
      "metadata": {
        "id": "2v9AF4maezKs"
      }
    },
    {
      "cell_type": "markdown",
      "source": [
        "### Praticando Desafios\n",
        "1) Escreva um programa que peça à pessoa usuária para fornecer dois números e exibir o número maior.\n",
        "\n",
        "2) Escreva um programa que solicite o percentual de crescimento de produção de uma empresa e informe se houve um crescimento (porcentagem positiva) ou decrescimento (porcentagem negativa).\n",
        "\n",
        "3) Escreva um programa que determine se uma letra fornecida pela pessoa usuária é uma vogal ou consoante.\n",
        "\n",
        "4) Escreva um programa que leia valores médios de preços de um modelo de carro por 3 anos consecutivos e exiba o valor mais alto e mais baixo entre esses três anos.\n",
        "\n",
        "5) Escreva um programa que pergunte sobre o preço de três produtos e indique qual é o produto mais barato para comprar.\n",
        "\n",
        "6) Escreva um programa que leia três números e os exiba em ordem decrescente.\n",
        "\n",
        "7) Escreva um programa que pergunte em qual turno a pessoa usuária estuda (\"manhã\", \"tarde\" ou \"noite\") e exiba a mensagem \"Bom Dia!\", \"Boa Tarde!\", \"Boa Noite!\", ou \"Valor Inválido!\", conforme o caso.\n",
        "\n",
        "8) Escreva um programa que peça um número inteiro à pessoa usuária e determine se ele é par ou ímpar. Dica: Você pode utilizar o operador módulo %.\n",
        "\n",
        "9) Escreva um programa que peça um número à pessoa usuária e informe se ele é inteiro ou decimal."
      ],
      "metadata": {
        "id": "Q-LmKgNIoeRb"
      }
    },
    {
      "cell_type": "code",
      "source": [
        "# D1 - Escreva um programa que peça à pessoa usuária para fornecer dois números e exibir o número maior.\n",
        "n1 = int(input('Digite primeiro número:'))\n",
        "n2 = int(input('Digite o segundo número:'))\n",
        "if(n1 > n2):\n",
        "  print('maior número:',n1)\n",
        "elif (n1 == n2):\n",
        "  print('Os números são iguais!')\n",
        "else:\n",
        "  print('O maior número é o n2:',n2)\n",
        "\n",
        "# D2 - Escreva um programa que solicite o percentual de crescimento de produção de uma empresa e informe se houve um crescimento (porcentagem positiva) ou decrescimento (porcentagem negativa).\n",
        "percentual_crescimento = float(input('Qual foi o percentual de crescimento?'))\n",
        "if(percentual_crescimento > 0.0):\n",
        "  print('Empresa teve crescimento de:', percentual_crescimento)\n",
        "elif(percentual_crescimento == 0.0):\n",
        "  print('Empresa estagnada')\n",
        "else:\n",
        "  print('Decrescimento da empresa de:', percentual_crescimento)\n",
        "\n",
        "# D3 - Escreva um programa que determine se uma letra fornecida pela pessoa usuária é uma vogal ou consoante.\n",
        "letra = input('Escreve uma letra aí:')\n",
        "if(letra == 'a' or letra == 'e' or letra == 'i' or letra == 'o' or letra == 'u'):\n",
        "  print('A letra é uma vogal')\n",
        "else:\n",
        "  print('Provavelmente a letra é consoante')\n",
        "\n",
        "# D4 - Escreva um programa que leia valores médios de preços de um modelo de carro por 3 anos consecutivos e exiba o valor mais alto e mais baixo entre esses três anos.\n",
        "preco_1 = float(input('Valor do primeiro carro:'))\n",
        "preco_2 = float(input('Valor do segundo carro:'))\n",
        "preco_3 = float(input('Valor do terceiro carro:'))\n",
        "precos = [preco_1, preco_2, preco_3]\n",
        "precos.sort()\n",
        "print(f'Maior valor: R${precos[-1]}. Menor valor: R${precos[0]}')\n",
        "\n",
        "# D5 - Escreva um programa que pergunte sobre o preço de três produtos e indique qual é o produto mais barato para comprar.\n",
        "preco_1 = float(input('Valor do primeiro produto:'))\n",
        "preco_2 = float(input('Valor do segundo produto:'))\n",
        "preco_3 = float(input('Valor do terceiro produto:'))\n",
        "produtos = [\n",
        "    {'produto':'produto 1', 'preco':preco_1},\n",
        "    {'produto':'produto 2', 'preco':preco_2},\n",
        "    {'produto':'produto 3', 'preco':preco_3},\n",
        "\n",
        "]\n",
        "def myFunc(e):\n",
        "  return e['preco']\n",
        "produtos.sort(key=myFunc)\n",
        "produto_selecionado = produtos[0]['produto']\n",
        "print(f'O produto mais barato é o {produto_selecionado}')\n",
        "\n",
        "\n",
        "# D6 - Escreva um programa que leia três números e os exiba em ordem decrescente.\n",
        "preco_1 = float(input('Valor do primeiro preço:'))\n",
        "preco_2 = float(input('Valor do segundo preço:'))\n",
        "preco_3 = float(input('Valor do terceiro preço:'))\n",
        "precos = [preco_1, preco_2, preco_3]\n",
        "precos.sort(reverse=True)\n",
        "print(precos)\n",
        "\n",
        "# D7 - Escreva um programa que pergunte em qual turno a pessoa usuária estuda (\"manhã\", \"tarde\" ou \"noite\") e exiba a mensagem \"Bom Dia!\", \"Boa Tarde!\", \"Boa Noite!\", ou \"Valor Inválido!\", conforme o caso.\n",
        "turno = input('Em qual turno você estuda?')\n",
        "match(turno):\n",
        "  case \"manhã\":\n",
        "    print('Bom Dia!')\n",
        "  case \"tarde\":\n",
        "    print('Boa Tarde!')\n",
        "  case \"noite\":\n",
        "    print('Boa Noite!')\n",
        "  case _:\n",
        "    print('Valor Inválido!')\n",
        "\n",
        "# D8 - Escreva um programa que peça um número inteiro à pessoa usuária e determine se ele é par ou ímpar. Dica: Você pode utilizar o operador módulo %.\n",
        "num = int(input('Escreva um número para ver se é ímpar ou par:'))\n",
        "if(num%2 == 0):\n",
        "  print(f'O número {num} é par')\n",
        "else:\n",
        "  print(f'O número {num} é ímpar')\n",
        "# D9 - Escreva um programa que peça um número à pessoa usuária e informe se ele é inteiro ou decimal.\n",
        "num = input('Digite um número para ver se é inteiro ou decimal:')\n",
        "if(',' in num or '.' in num):\n",
        "  print('O número é um decimal')\n",
        "else:\n",
        "  print('O número não é um decimal')"
      ],
      "metadata": {
        "id": "vTn2uqX9oowL"
      },
      "execution_count": null,
      "outputs": []
    },
    {
      "cell_type": "code",
      "source": [
        "'''\n",
        "# D10 - Um programa deve ser escrito para ler dois números e, em seguida, perguntar à pessoa usuária qual operação ele deseja realizar.\n",
        " O resultado da operação deve incluir informações sobre o número - se é par ou ímpar, positivo ou negativo e inteiro ou decimal.\n",
        "'''\n",
        "num_1 = input('Qual primeiro número:')\n",
        "num_2 = input('Qual o segundo número:')\n",
        "operacao = input('''\n",
        "Escolha a operação que deseja, digite o número atribuído:\n",
        "1 - Adição\n",
        "2 - Subtração\n",
        "3 - Multiplicação\n",
        "4 - Divisão\n",
        "5 - Potência\n",
        "6 - Resto\n",
        "''')\n",
        "if(',' in num_1 or ',' in num_2 or '.' in num_1 or '.' in num_2):\n",
        "  num_1 = float(num_1.replace(',','.'))\n",
        "  num_2 = float(num_2.replace(',','.'))\n",
        "  print('O número é um decimal')\n",
        "else:\n",
        "  num_1 = int(num_1)\n",
        "  num_2 = int(num_2)\n",
        "  print('O número não é um decimal')\n",
        "match(operacao):\n",
        "  case('1'):\n",
        "    print(f'{num_1+num_2}')\n",
        "  case('2'):\n",
        "    print(f'{num_1-num_2}')\n",
        "  case('3'):\n",
        "    print(f'{num_1*num_2}')\n",
        "  case('4'):\n",
        "    while(num_2 == 0):\n",
        "      num_2 = input('Denominador não pode ser 0:')\n",
        "      if(type(num_1) == 'float'):\n",
        "        num_2 = float(num_2)\n",
        "      else:\n",
        "        num_2 = int(num_2)\n",
        "    print(f'{num_1/num_2}')\n",
        "  case('5'):\n",
        "    print(f'{num_1**num_2}')\n",
        "  case('6'):\n",
        "    print(f'{num_1%num_2}')\n",
        "  case _:\n",
        "    print('Nenhuma operação escolhida!')"
      ],
      "metadata": {
        "id": "GRMPrG3H-QFt"
      },
      "execution_count": null,
      "outputs": []
    },
    {
      "cell_type": "code",
      "source": [
        "'''\n",
        "# D11 - Escreva um programa que peça à pessoa usuária três números que representam os lados de um triângulo. O programa deve informar se os valores podem ser utilizados\n",
        "para formar um triângulo e, caso afirmativo, se ele é equilátero, isósceles ou escaleno. Tenha em mente algumas dicas:\n",
        "\n",
        "    Três lados formam um triângulo quando a soma de quaisquer dois lados for maior que o terceiro;\n",
        "    Triângulo Equilátero: três lados iguais;\n",
        "    Triângulo Isósceles: quaisquer dois lados iguais;\n",
        "    Triângulo Escaleno: três lados diferentes.\n",
        "'''\n",
        "print('--------------Classificador de Triângulo!--------------')\n",
        "lado_1 = input('Tamanho do primeiro Lado:')\n",
        "lado_2 = input('Tamanho do segundo Lado:')\n",
        "lado_3 = input('Tamanho do terceiro Lado:')\n",
        "if(',' in lado_1 or ',' in lado_2 or ',' in lado_3 or '.' in lado_1 or '.' in lado_2 or '.' in lado_3):\n",
        "  lado_1 = float(lado_1.replace(',','.'))\n",
        "  lado_2 = float(lado_2.replace(',','.'))\n",
        "  lado_3 = float(lado_3.replace(',','.'))\n",
        "else:\n",
        "  lado_1 = int(lado_1)\n",
        "  lado_2 = int(lado_2)\n",
        "  lado_3 = int(lado_3)\n",
        "\n",
        "if((lado_1 + lado_2 < lado_3) or (lado_1 + lado_3 < lado_2) or (lado_2 + lado_3 < lado_1)):\n",
        "  print('Com essas medidas é impossível ser um triângulo')\n",
        "elif(lado_1 == lado_2 and lado_2 == lado_3):\n",
        "  print('O triângulo é EQUILÁTERO')\n",
        "elif(lado_1 != lado_2 and lado_2 != lado_3):\n",
        "  print('O triângulo é ESCALENO')\n",
        "else:\n",
        "  print('O triângulo é ISÓCELES')"
      ],
      "metadata": {
        "id": "EhaMUXGfDaXj"
      },
      "execution_count": null,
      "outputs": []
    },
    {
      "cell_type": "code",
      "source": [
        "'''\n",
        "# D12 - Um estabelecimento está vendendo combustíveis com descontos variados.\n",
        "Para o etanol(R$1,70/l):\n",
        "  - Se a quantidade comprada for até 15 litros, o desconto será de 2% por litro.\n",
        "  - Caso contrário, será de 4% por litro.\n",
        "Para o diesel(R$2,00/l):\n",
        "  - Se a quantidade comprada for até 15 litros, o desconto será de 3% por litro.\n",
        "  - Caso contrário, será de 5% por litro.\n",
        "O preço do litro de diesel é R$ 2,00 e o preço do litro de etanol é R$ 1,70. Escreva um programa que leia a quantidade de litros vendidos e o tipo de combustível\n",
        "(E para etanol e D para diesel) e calcule o valor a ser pago pelo cliente. Tenha em mente algumas dicas:\n",
        "\n",
        "    O do valor do desconto será a multiplicação entre preço do litro, quantidade de litros e o valor do desconto.\n",
        "    O valor a ser pago por um cliente será o resultado da multiplicação do preço do litro pela quantidade de litros menos o valor de desconto resultante do cálculo.\n",
        "'''\n",
        "print('--------------Desconto de Combustíveis!--------------')\n",
        "litros = int(input('Quantidade de litro(s) desejado:'))\n",
        "combustivel = input('''\n",
        "Qual combustível desejado(Coloque a letra correspondente):\n",
        "E - Etanol\n",
        "D - Diesel\n",
        "''').upper()\n",
        "match(combustivel):\n",
        "  case('E'):\n",
        "    print('Etanol')\n",
        "    if(litros <= 15):\n",
        "      desconto = (litros*0.02)*1.7\n",
        "    else:\n",
        "      desconto = (litros*0.04)*1.7\n",
        "    valor_a_pagar = (litros*1.7) - desconto\n",
        "    print(\"Total: R$%.2f\" % (valor_a_pagar))\n",
        "  case('D'):\n",
        "    print('Diesel')\n",
        "    if(litros <= 15):\n",
        "      desconto = (litros*0.03)*2.0\n",
        "    else:\n",
        "      desconto = (litros*0.05)*2.0\n",
        "    valor_a_pagar = (litros*2.0) - desconto\n",
        "    print(\"Total: R$%.2f\" % (valor_a_pagar))\n",
        "  case _:\n",
        "    print('Escolha não válida')"
      ],
      "metadata": {
        "id": "W1wz66cYJhf6"
      },
      "execution_count": null,
      "outputs": []
    },
    {
      "cell_type": "code",
      "source": [
        "'''\n",
        "# D13 - Em uma empresa de venda de imóveis você precisa criar um código que analise os dados de vendas anuais para ajudar a diretoria na tomada de decisão.\n",
        "O código precisa coletar os dados de quantidade de venda durante os anos de 2022 e 2023 e fazer um cálculo de variação percentual.\n",
        "A partir do valor da variação, deve ser enviada às seguintes sugestões:\n",
        "\n",
        "    Para variação acima de 20%: bonificação para o time de vendas.\n",
        "    Para variação entre 2% e 20%: pequena bonificação para time de vendas.\n",
        "    Para variação entre 2% e -10%: planejamento de políticas de incentivo às vendas.\n",
        "    Para bonificações abaixo de -10%: corte de gastos.\n",
        "'''\n",
        "print('--------------Análise Variação Percentual!--------------')\n",
        "quantidade_vendas_2022 = int(input('Quantidade de Vendas de 2022:'))\n",
        "quantidade_vendas_2023 = int(input('Quantidade de Vendas de 2023:'))\n",
        "variacao = int(((quantidade_vendas_2023 / quantidade_vendas_2022) - 1)*100)\n",
        "print(f'Com a variação de {variacao}%. Sugere-se que faça:')\n",
        "if(variacao > 20):\n",
        "  print('Bonificação para o time de vendas.')\n",
        "elif(variacao >= 2):\n",
        "  print('Pequena bonificação para time de vendas')\n",
        "elif(variacao < -10):\n",
        "  print('Corte de gastos')\n",
        "else:\n",
        "  print('Planejamento de políticas de incentivo às vendas')"
      ],
      "metadata": {
        "colab": {
          "base_uri": "https://localhost:8080/"
        },
        "id": "CV944JDOXG28",
        "outputId": "98e7cfc1-5cab-4db0-ac45-184f641900d6"
      },
      "execution_count": null,
      "outputs": [
        {
          "output_type": "stream",
          "name": "stdout",
          "text": [
            "--------------Análise Variação Percentual!--------------\n",
            "Quantidade de Vendas de 2022:2200\n",
            "Quantidade de Vendas de 2023:3000\n",
            "Com a variação de 36%. Sugere-se que faça:\n",
            "Bonificação para o time de vendas.\n"
          ]
        }
      ]
    },
    {
      "cell_type": "markdown",
      "source": [
        "## 4. Estrutura de Laços"
      ],
      "metadata": {
        "id": "e_49F_d-blgY"
      }
    },
    {
      "cell_type": "markdown",
      "source": [
        "#### Praticando Desafios\n",
        "1) Escreva um programa que peça dois números inteiros e imprima todos os números inteiros entre eles.\n",
        "\n",
        "2) Escreva um programa para calcular quantos dias levará para a colônia de uma bactéria A ultrapassar ou igualar a colônia de uma bactéria B, com base nas taxas de crescimento de 3% e 1,5% respectivamente. Considere que a colônia A inicia com 4 elementos e a B com 10.\n",
        "\n",
        "3) Para tratar uma quantidade de 15 dados de avaliações de pessoas usuárias de um serviço da empresa, precisamos verificar se as notas são válidas. Então, escreva um programa que vai receber a nota de 0 a 5 de todos os dados e verificar se é um valor válido. Caso seja inserido uma nota acima de 5 ou abaixo de 0, repita até que a pessoa usuária insira um valor válido.\n",
        "\n",
        "4) Desenvolva um programa que leia um conjunto indeterminado de temperaturas em Celsius e informe a média delas. A leitura deve ser encerrada ao ser enviado o valor -273°C.\n",
        "\n",
        "5) Escreva um programa que calcule o fatorial de um número inteiro fornecido pela pessoa usuária. Lembrando que o fatorial de um número inteiro é a multiplicação desse número por todos os seus antecessores até o número 1. Por exemplo, o fatorial de 5 é 5 x 4 x 3 x 2 x 1 = 120.\n",
        "Momento dos projetos\n",
        "\n",
        "6) Escreva um programa que gere a tabuada de um número inteiro de 1 a 10, de acordo com a escolha da pessoa usuária. Como exemplo, para o número 2, a tabuada deve ser mostrada no seguinte formato:\n",
        "\n",
        "Tabuada do 2:\n",
        "2 x 1 = 2\n",
        "2 x 2 = 4\n",
        "[...]\n",
        "2 x 10 = 20\n",
        "\n",
        "7) Os números primos possuem várias aplicações dentro da Ciência de Dados em criptografia e segurança, por exemplo. Um número primo é aquele que é divisível apenas por um e por ele mesmo. Assim, faça um programa que peça um número inteiro e determine se ele é ou não um número primo.\n",
        "\n",
        "8) Vamos entender a distribuição de idades de pensionistas de uma empresa de previdência. Escreva um programa que leia as idades de uma quantidade não informada de clientes e mostre a distribuição em intervalos de [0-25], [26-50], [51-75] e [76-100]. Encerre a entrada de dados com um número negativo.\n",
        "\n",
        "9) Em uma eleição para gerência em uma empresa com 20 pessoas colaboradoras, existem quatro candidatos(as). Escreva um programa que calcule o(a) vencedor(a) da eleição. A votação ocorreu da seguinte maneira:\n",
        "\n",
        "    Cada colaborador(a) votou em uma das quatro pessoas candidatas (que representamos pelos números 1, 2, 3 e 4).\n",
        "    Também foram contabilizados os votos nulos (representados pelo número 5) e os votos em branco (representados pelo número 6).\n",
        "\n",
        "Ao final da votação, o programa deve exibir o número total de votos para cada candidato(a), os nulos e os votos em branco. Além disso, deve calcular e exibir a porcentagem de votos nulos em relação ao total de votos e a porcentagem de votos em branco em relação ao total de votos."
      ],
      "metadata": {
        "id": "EVPSM-p1gXXM"
      }
    },
    {
      "cell_type": "code",
      "source": [
        "'''\n",
        "# D1 - Escreva um programa que peça dois números inteiros e imprima todos os números inteiros entre eles.\n",
        "'''\n",
        "num_1 = int(input('Primeiro Número:'))\n",
        "num_2 = int(input('Segundo Número:'))\n",
        "for num in range(num_1,num_2):\n",
        "  print(num)"
      ],
      "metadata": {
        "id": "gAhXZo0qgjCR"
      },
      "execution_count": null,
      "outputs": []
    },
    {
      "cell_type": "code",
      "source": [
        "'''\n",
        "# D2 - Escreva um programa para calcular quantos dias levará para a colônia de uma bactéria A ultrapassar ou igualar a colônia de uma bactéria B,\n",
        "com base nas taxas de crescimento de 3% e 1,5% respectivamente. Considere que a colônia A inicia com 4 elementos e a B com 10.\n",
        "'''\n",
        "bac_a = 4\n",
        "bac_b = 10\n",
        "dias = 0\n",
        "while (bac_a != bac_b):\n",
        "  bac_a += bac_a*1.03\n",
        "  bac_b += bac_b*1.015\n",
        "  dias += 1\n",
        "print(f'Demorou {dias} dias')"
      ],
      "metadata": {
        "colab": {
          "base_uri": "https://localhost:8080/"
        },
        "id": "fxTNVD6RmBuu",
        "outputId": "874d70da-0e40-45bc-957a-7f538e76ba0e"
      },
      "execution_count": null,
      "outputs": [
        {
          "output_type": "stream",
          "name": "stdout",
          "text": [
            "Demorou 1010 dias\n"
          ]
        }
      ]
    },
    {
      "cell_type": "code",
      "source": [
        "'''\n",
        "# D3 - Para tratar uma quantidade de 15 dados de avaliações de pessoas usuárias de um serviço da empresa, precisamos verificar se as notas são válidas.\n",
        "Então, escreva um programa que vai receber a nota de 0 a 5 de todos os dados e verificar se é um valor válido.\n",
        "Caso seja inserido uma nota acima de 5 ou abaixo de 0, repita até que a pessoa usuária insira um valor válido.\n",
        "'''\n",
        "notas = []\n",
        "soma = 0\n",
        "for num in range(15):\n",
        "  nota = int(input('Coloque uma nota entre 0 a 5:'))\n",
        "  while(nota < 0 or nota > 5):\n",
        "    nota = int(input('Nota inválida, coloque outra:'))\n",
        "  notas.append(nota)\n",
        "  soma += nota\n",
        "print(f'Notas {notas}')\n",
        "print(f'Média da turma: {soma/15}')"
      ],
      "metadata": {
        "id": "uqRygvTln9R0"
      },
      "execution_count": null,
      "outputs": []
    },
    {
      "cell_type": "code",
      "source": [
        "'''\n",
        "# D4 - Desenvolva um programa que leia um conjunto indeterminado de temperaturas em Celsius e informe a média delas.\n",
        "A leitura deve ser encerrada ao ser enviado o valor -273°C.\n",
        "'''\n",
        "temp = 0\n",
        "soma_temp = 0\n",
        "repeticoes = 0\n",
        "while(temp != -273):\n",
        "  temp = int(input('Digite uma temperatura em Celsius:'))\n",
        "  soma_temp += temp\n",
        "  repeticoes += 1\n",
        "  print(f'Média de temperaturas: {soma_temp/repeticoes}')\n",
        "print('Terminou o programa!')"
      ],
      "metadata": {
        "id": "49-t_GiRrDyi"
      },
      "execution_count": null,
      "outputs": []
    },
    {
      "cell_type": "code",
      "source": [
        "'''\n",
        "5) Escreva um programa que calcule o fatorial de um número inteiro fornecido pela pessoa usuária.\n",
        "Lembrando que o fatorial de um número inteiro é a multiplicação desse número por todos os seus antecessores até o número 1.\n",
        "Por exemplo, o fatorial de 5 é 5 x 4 x 3 x 2 x 1 = 120.\n",
        "Momento dos projetos\n",
        "'''\n",
        "fatorial = 1\n",
        "num = int(input('Digite o número para saber seu fatorial:'))\n",
        "while(num > 1):\n",
        "  fatorial *= num\n",
        "  num -= 1\n",
        "print(f'Fatorial = {fatorial}')"
      ],
      "metadata": {
        "id": "GYnEpPvDshqH"
      },
      "execution_count": null,
      "outputs": []
    },
    {
      "cell_type": "code",
      "source": [
        "'''\n",
        "6) Escreva um programa que gere a tabuada de um número inteiro de 1 a 10, de acordo com a escolha da pessoa usuária.\n",
        "Como exemplo, para o número 2, a tabuada deve ser mostrada no seguinte formato:\n",
        "\n",
        "Tabuada do 2:\n",
        "2 x 1 = 2\n",
        "2 x 2 = 4\n",
        "[...]\n",
        "2 x 10 = 20\n",
        "'''\n",
        "num = int(input('Digite um número para saber a tabuada:'))\n",
        "for x in range(1,11):\n",
        "  print(f'{num} x {x} = {num*x}')\n"
      ],
      "metadata": {
        "id": "17kpx59Ospkz"
      },
      "execution_count": null,
      "outputs": []
    },
    {
      "cell_type": "code",
      "source": [
        "'''\n",
        "7) Os números primos possuem várias aplicações dentro da Ciência de Dados em criptografia e segurança, por exemplo.\n",
        "Um número primo é aquele que é divisível apenas por um e por ele mesmo. Assim, faça um programa que peça um número inteiro e determine se ele é ou não um número primo.\n",
        "'''\n",
        "num = int(input('Digite um número para saber se é Primo:'))\n",
        "ref = 2\n",
        "primo = False\n",
        "if(num <= 1):\n",
        "  print('O número é 1 ou menor')\n",
        "else:\n",
        "  while(ref < num):\n",
        "    if(num % ref==0):\n",
        "      primo = False\n",
        "      break\n",
        "    else:\n",
        "      primo = True\n",
        "      ref += 1\n",
        "  if(primo):\n",
        "    print(f'Número {num} é primo')\n",
        "  else:\n",
        "    print(f'Número {num} NÃO é primo')"
      ],
      "metadata": {
        "id": "Uq2Sl-5msscR"
      },
      "execution_count": null,
      "outputs": []
    },
    {
      "cell_type": "code",
      "source": [
        "'''\n",
        "8) Vamos entender a distribuição de idades de pensionistas de uma empresa de previdência.\n",
        "Escreva um programa que leia as idades de uma quantidade não informada de clientes e mostre a distribuição em intervalos de [0-25], [26-50], [51-75] e [76-100].\n",
        "Encerre a entrada de dados com um número negativo.\n",
        "'''\n",
        "intervalos = {'[0-25]':[],'[26-50]':[], '[51-75]': [], '[76-100]': []}\n",
        "idade = 0\n",
        "while(idade >= 0):\n",
        "  idade = int(input('Digite a idade da pensionista:'))\n",
        "  if(idade < 0):\n",
        "    break\n",
        "  elif(idade < 26):\n",
        "    intervalos['[0-25]'].append(idade)\n",
        "    continue\n",
        "  elif(idade < 51):\n",
        "    intervalos['[26-50]'].append(idade)\n",
        "    continue\n",
        "  elif(idade < 76):\n",
        "    intervalos['[51-75]'].append(idade)\n",
        "    continue\n",
        "  else:\n",
        "    intervalos['[76-100]'].append(idade)\n",
        "print(intervalos)"
      ],
      "metadata": {
        "id": "Ocuxy8FzsxVD"
      },
      "execution_count": null,
      "outputs": []
    },
    {
      "cell_type": "code",
      "source": [
        "'''\n",
        "9) Em uma eleição para gerência em uma empresa com 20 pessoas colaboradoras, existem quatro candidatos(as). Escreva um programa que calcule o(a) vencedor(a) da eleição.\n",
        "A votação ocorreu da seguinte maneira:\n",
        "\n",
        "    Cada colaborador(a) votou em uma das quatro pessoas candidatas (que representamos pelos números 1, 2, 3 e 4).\n",
        "    Também foram contabilizados os votos nulos (representados pelo número 5) e os votos em branco (representados pelo número 6).\n",
        "\n",
        "Ao final da votação, o programa deve exibir o número total de votos para cada candidato(a), os nulos e os votos em branco.\n",
        "Além disso, deve calcular e exibir a porcentagem de votos nulos em relação ao total de votos e a porcentagem de votos em branco em relação ao total de votos.\n",
        "'''\n",
        "candidatos = {'1': 0, '2': 0, '3': 0, '4': 0, 'nulo': 0, 'branco': 0}\n",
        "print('''\n",
        "Candidatos:\n",
        "1 - Candidato 1\n",
        "2 - Candidato 2\n",
        "3 - Candidato 3\n",
        "4 - Candidato 4\n",
        "5 - Nulo\n",
        "6 - Branco\n",
        "''')\n",
        "for x in range(20):\n",
        "  voto = input('Digite seu voto(em numeral):')\n",
        "  match(voto):\n",
        "    case '1':\n",
        "      candidatos['1'] = candidatos['1']+1\n",
        "    case '2':\n",
        "      candidatos['2'] = candidatos['2']+1\n",
        "    case '3':\n",
        "      candidatos['3'] = candidatos.get('3')+1\n",
        "    case '4':\n",
        "      candidatos['4'] = candidatos['4']+1\n",
        "    case '5':\n",
        "      candidatos['nulo'] += 1\n",
        "    case '6':\n",
        "      candidatos['branco'] += 1\n",
        "    case _:\n",
        "      print('Voto não computado')\n",
        "print(candidatos)"
      ],
      "metadata": {
        "id": "qLR76mnOs2bg"
      },
      "execution_count": null,
      "outputs": []
    },
    {
      "cell_type": "markdown",
      "source": [
        "## 5 - Estruturas de Dados"
      ],
      "metadata": {
        "id": "R_OPVHvuHBlB"
      }
    },
    {
      "cell_type": "markdown",
      "source": [
        "1) Faça um programa que tenha a seguinte lista contendo os valores de gastos de uma empresa de papel [2172.54, 3701.35, 3518.09, 3456.61, 3249.38, 2840.82, 3891.45, 3075.26, 2317.64, 3219.08]. Com esses valores, faça um programa que calcule a média de gastos. Dica: use as funções built-in sum() e len().\n",
        "\n",
        "2) Com os mesmos dados da questão anterior, defina quantas compras foram realizadas acima de 3000 reais e calcule a porcentagem quanto ao total de compras.\n",
        "\n",
        "3) Faça um código que colete em uma lista 5 números inteiros quaisquer e imprima a lista. Exemplo: [1,4,7,2,4].\n",
        "\n",
        "4) Colete novamente 5 inteiros e imprima a lista em ordem inversa à enviada.\n",
        "\n",
        "5) Faça um programa que, ao inserir um número qualquer, cria uma lista contendo todos os números primos entre 1 e o número digitado.\n",
        "\n",
        "6) Escreva um programa que peça uma data informando o dia, mês e ano e determine se ela é válida para uma análise.\n",
        "Momento dos projetos\n",
        "\n",
        "7) Para um estudo envolvendo o nível de multiplicação de bactérias em uma colônia, foi coletado o número de bactérias por dia (em milhares) e pode ser observado a seguir: [1.2, 2.1, 3.3, 5.0, 7.8, 11.3, 16.6, 25.1, 37.8, 56.9]. Tendo esses valores, faça um código que gere uma lista contendo o percentual de crescimento de bactérias por dia, comparando o número de bactérias em cada dia com o número de bactérias do dia anterior. Dica: para calcular o percentual de crescimento usamos a seguinte equação: 100 * (amostra_atual - amostra_passada) / (amostra_passada).\n",
        "\n",
        "8) Para uma seleção de produtos alimentícios, precisamos separar o conjunto de IDs dados por números inteiros sabendo que os produtos com ID par são doces e os com ID ímpar são amargos. Monte um código que colete 10 IDs. Depois, calcule e mostre a quantidade de produtos doces e amargos.\n",
        "\n",
        "9) Desenvolva um programa que informa a nota de um(a) aluno(a) de acordo com suas respostas. Ele deve pedir a resposta desse(a) aluno(a) para cada questão e é preciso verificar se a resposta foi igual ao gabarito. Cada questão vale um ponto e existem as alternativas A, B, C ou D.\n",
        "\n",
        "Gabarito da prova:\n",
        "01 - D\n",
        "02 - A\n",
        "03 - C\n",
        "04 - B\n",
        "05 - A\n",
        "06 - D\n",
        "07 - C\n",
        "08 - C\n",
        "09 - A\n",
        "10 - B\n",
        "\n",
        "10) Um instituto de meteorologia deseja fazer um estudo de temperatura média de cada mês do ano. Para isso, você precisa fazer um código que colete e armazene essas temperaturas médias em uma lista. Depois, calcule a média anual das temperaturas e mostre todas as temperaturas acima da média anual e em que mês elas ocorreram, mostrando os meses por extenso (Janeiro, Fevereiro, etc.).\n",
        "\n",
        "11) Uma empresa de e-commerce está interessada em analisar as vendas dos seus produtos. Os dados das vendas foram armazenados em um dicionário:\n",
        "\n",
        "{'Produto A': 300, 'Produto B': 80, 'Produto C': 60,\n",
        " 'Produto D': 200, 'Produto E': 250, 'Produto F': 30}\n",
        "\n",
        "Escreva um código que calcule o total de vendas e o produto mais vendido.\n",
        "\n",
        "12) Uma pesquisa de mercado foi feita para decidir qual design de marca infantil mais agrada as crianças. A pesquisa foi feita e o votos computados podem ser observados abaixo:\n",
        "\n",
        "'''\n",
        "Tabela de votos da marca\n",
        "Design 1 - 1334 votos\n",
        "Design 2 - 982 votos\n",
        "Design 3 - 1751 votos\n",
        "Design 4 - 210 votos\n",
        "Design 5 - 1811 votos\n",
        "'''\n",
        "\n",
        "Adapte os dados fornecidos para uma estrutura de dicionário. A partir dele, informe o design vencedor e a porcentagem de votos recebidos.\n",
        "\n",
        "13) As pessoas colaboradoras de um setor da empresa que você trabalha vão receber um abono correspondente a 10% do salário devido ao ótimo desempenho do time. O setor financeiro solicitou sua ajuda para a verificação das consequências financeiras que esse abono irá gerar nos recursos. Assim, foi encaminhada para você uma lista com os salários que receberão o abono: [1172, 1644, 2617, 5130, 5532, 6341, 6650, 7238, 7685, 7782, 7903]. O abono de cada colaborador(a) não pode ser inferior a 200. Em código, transforme cada um dos salários em chaves de um dicionário e o abono de cada salário no elemento. Depois, informe o total de gastos com o abono, quantos(as) colaboradores(as) receberam o abono mínimo e qual o maior valor de abono fornecido.\n",
        "\n",
        "14) Uma equipe de cientistas de dados está estudando a diversidade biológica em uma floresta. A equipe fez a coleta de informações sobre o número de espécies de plantas e animais em cada área dessa floresta e armazenou essas informações em um dicionário. Nele, a chave descreve a área dos dados e os valores nas listas correspondem às espécies de plantas e animais nas áreas, respectivamente.\n",
        "\n",
        "{'Área Norte': [2819, 7236],\n",
        " 'Área Leste': [1440, 9492],\n",
        " 'Área Sul': [5969, 7496],\n",
        " 'Área Oeste': [14446, 49688],\n",
        " 'Área Centro': [22558, 45148]}\n",
        "\n",
        "Escreva um código para calcular a média de espécies por área e identificar a área com a maior diversidade biológica. Dica: use as funções built-in sum() e len().\n",
        "\n",
        "15) O setor de RH da sua empresa te pediu uma ajuda para analisar as idades de colaboradores(as) de 4 setores da empresa. Para isso, foram fornecidos os seguintes dados:\n",
        "\n",
        "{'Setor A': [22, 26, 30, 30, 35, 38, 40, 56, 57, 65],\n",
        " 'Setor B': [22, 24, 26, 33, 41, 49, 50, 54, 60, 64],\n",
        " 'Setor C': [23, 26, 26, 29, 34, 35, 36, 41, 52, 56],\n",
        " 'Setor D': [19, 20, 25, 27, 34, 39, 42, 44, 50, 65]}\n",
        "\n",
        "Sabendo que cada setor tem 10 colaboradores(as), construa um código que calcule a média de idade de cada setor, a idade média geral entre todos os setores e quantas pessoas estão acima da idade média geral."
      ],
      "metadata": {
        "id": "rahtymp6cMUX"
      }
    },
    {
      "cell_type": "code",
      "source": [
        "'''\n",
        "1) Faça um programa que tenha a seguinte lista contendo os valores de gastos de uma empresa de papel [2172.54, 3701.35, 3518.09, 3456.61, 3249.38, 2840.82, 3891.45, 3075.26, 2317.64, 3219.08].\n",
        "Com esses valores, faça um programa que calcule a média de gastos. Dica: use as funções built-in sum() e len().\n",
        "'''\n",
        "gastos_papel = [2172.54, 3701.35, 3518.09, 3456.61, 3249.38, 2840.82, 3891.45, 3075.26, 2317.64, 3219.08]\n",
        "print(f'Média: {sum(gastos_papel)/len(gastos_papel)}')\n",
        "\n",
        "'''\n",
        "2) Com os mesmos dados da questão anterior, defina quantas compras foram realizadas acima de 3000 reais e calcule a porcentagem quanto ao total de compras.\n",
        "'''\n",
        "acima_3000 = 0.0\n",
        "for valor in gastos_papel:\n",
        "  if(valor > 3000.00):\n",
        "    acima_3000 += valor\n",
        "porcentagem = acima_3000/sum(gastos_papel)\n",
        "print('Porcentagem de produtos acima de 3000 reais: %.4f' % (porcentagem))"
      ],
      "metadata": {
        "colab": {
          "base_uri": "https://localhost:8080/"
        },
        "id": "JbOFQBVOcOUn",
        "outputId": "703c7fd9-8685-4e11-fa6f-32e2bd86f1c7"
      },
      "execution_count": null,
      "outputs": [
        {
          "output_type": "stream",
          "name": "stdout",
          "text": [
            "Média: 3144.222\n",
            "Porcentagem de produtos acima de 3000 reais: 0.7668\n"
          ]
        }
      ]
    },
    {
      "cell_type": "code",
      "source": [
        "'''\n",
        "3) Faça um código que colete em uma lista 5 números inteiros quaisquer e imprima a lista. Exemplo: [1,4,7,2,4].\n",
        "\n",
        "4) Colete novamente 5 inteiros e imprima a lista em ordem inversa à enviada.\n",
        "'''\n",
        "nums = input('Digite 5 números da lista separando-os com espaço em branco:')\n",
        "lista_nums = nums.split()\n",
        "print(f'Lista dos números: {lista_nums}')\n",
        "lista_reversa = lista_nums\n",
        "lista_reversa.reverse()\n",
        "print(f'Lista reversa: {lista_reversa}')"
      ],
      "metadata": {
        "id": "P_0cwcHhcUa9"
      },
      "execution_count": null,
      "outputs": []
    },
    {
      "cell_type": "code",
      "source": [
        "'''\n",
        "5) Faça um programa que, ao inserir um número qualquer, cria uma lista contendo todos os números primos entre 1 e o número digitado.\n",
        "\n",
        "6) Escreva um programa que peça uma data informando o dia, mês e ano e determine se ela é válida para uma análise.\n",
        "'''\n",
        "num = int(input('Digite um número para saber os primos até ele:'))\n",
        "lista_primos = []\n",
        "if(num <= 1):\n",
        "  print('Não é primo!')\n",
        "else:\n",
        "  lista_primos.append(2)\n",
        "  for i in range(2,num):\n",
        "    ref = 2\n",
        "    primo = False\n",
        "    while(ref < i):\n",
        "      if(i % ref==0):\n",
        "        primo = False\n",
        "        break\n",
        "      else:\n",
        "        primo = True\n",
        "        ref += 1\n",
        "    if(primo):\n",
        "      lista_primos.append(i)\n",
        "print(f'Lista de Primos: {lista_primos}')"
      ],
      "metadata": {
        "id": "jCe8Eonkcoia"
      },
      "execution_count": null,
      "outputs": []
    },
    {
      "cell_type": "code",
      "source": [
        "'''\n",
        "7) Para um estudo envolvendo o nível de multiplicação de bactérias em uma colônia, foi coletado o número de bactérias por dia (em milhares) e pode ser observado a seguir:\n",
        "[1.2, 2.1, 3.3, 5.0, 7.8, 11.3, 16.6, 25.1, 37.8, 56.9].\n",
        "Tendo esses valores, faça um código que gere uma lista contendo o percentual de crescimento de bactérias por dia, comparando o número de bactérias em cada dia com o número de bactérias do dia anterior.\n",
        "Dica: para calcular o percentual de crescimento usamos a seguinte equação: 100 * (amostra_atual - amostra_passada) / (amostra_passada).\n",
        "'''\n",
        "bacterias = [1.2, 2.1, 3.3, 5.0, 7.8, 11.3, 16.6, 25.1, 37.8, 56.9]\n",
        "percentual_crescimento = []\n",
        "for i in range(len(bacterias)-1):\n",
        "  percentagem = ((bacterias[i+1]/bacterias[i])-1)*100\n",
        "  percentual_crescimento.append(round(percentagem,2))\n",
        "print(f'Lista de Percentual de Crescimento: {percentual_crescimento}')"
      ],
      "metadata": {
        "id": "7upgsqWucwhs",
        "colab": {
          "base_uri": "https://localhost:8080/"
        },
        "outputId": "7f421519-d6e7-4865-f3a6-bac8ec5554de"
      },
      "execution_count": null,
      "outputs": [
        {
          "output_type": "stream",
          "name": "stdout",
          "text": [
            "Lista de Percentual de Crescimento: [75.0, 57.14, 51.52, 56.0, 44.87, 46.9, 51.2, 50.6, 50.53]\n"
          ]
        }
      ]
    },
    {
      "cell_type": "code",
      "source": [
        "'''\n",
        "8) Para uma seleção de produtos alimentícios, precisamos separar o conjunto de IDs dados por números inteiros sabendo que os produtos com ID par são doces e os com ID ímpar são amargos.\n",
        "Monte um código que colete 10 IDs. Depois, calcule e mostre a quantidade de produtos doces e amargos.\n",
        "'''\n",
        "ids_alimenticios = [1, 4, 6, 2, 3, 65, 23, 6, 24, 88]\n",
        "def amargo_ou_doce(alimentos):\n",
        "  produtos_amargo, produtos_doce = [], []\n",
        "  for id in alimentos:\n",
        "    if(id % 2 == 0):\n",
        "      produtos_doce.append(id)\n",
        "    else:\n",
        "      produtos_amargo.append(id)\n",
        "  print(f'Quantidade de Produtos DOCE: {len(produtos_doce)}, que têm os seguintes ids: {produtos_doce}')\n",
        "  print(f'Quantidade de Produtos AMARGO: {len(produtos_amargo)}, que têm os seguintes ids: {produtos_amargo}')\n",
        "amargo_ou_doce(ids_alimenticios)"
      ],
      "metadata": {
        "id": "Ayp2CBFJdIse",
        "colab": {
          "base_uri": "https://localhost:8080/"
        },
        "outputId": "d744890b-b835-4094-c887-08acda52c4f5"
      },
      "execution_count": null,
      "outputs": [
        {
          "output_type": "stream",
          "name": "stdout",
          "text": [
            "Quantidade de Produtos DOCE: 6, que têm os seguintes ids: [4, 6, 2, 6, 24, 88]\n",
            "Quantidade de Produtos AMARGO: 4, que têm os seguintes ids: [1, 3, 65, 23]\n"
          ]
        }
      ]
    },
    {
      "cell_type": "code",
      "source": [
        "'''\n",
        "9) Desenvolva um programa que informa a nota de um(a) aluno(a) de acordo com suas respostas.\n",
        "Ele deve pedir a resposta desse(a) aluno(a) para cada questão e é preciso verificar se a resposta foi igual ao gabarito. Cada questão vale um ponto e existem as alternativas A, B, C ou D.\n",
        "\n",
        "Gabarito da prova: 01 - D 02 - A 03 - C 04 - B 05 - A 06 - D 07 - C 08 - C 09 - A 10 - B\n",
        "'''\n",
        "def corretor_de_provas(gabarito, provas):\n",
        "  # Gabarito é um dict -> {'01': 'D', '02':'A', '03':'C','04':'B','05':'A','06':'D','07':'C','08':'C','09':'A','10':'B'}\n",
        "  # Provas é uma lista de lista -> [['A','B','A','B','D', 'E', 'A','B', 'C', 'D'], ['A','B','A','B','D', 'E', 'A','B', 'C', 'D']]\n",
        "  for i in range(len(provas)):\n",
        "    nota = 0\n",
        "    for j in range(10):\n",
        "      list_of_keys = list(gabarito.keys())\n",
        "      if(provas[i][j] == gabarito.get(list_of_keys[j])):\n",
        "        nota += 1\n",
        "    print(f'Nota da estudante {i} = {nota}')\n",
        "\n",
        "gabarito_prova = {'01': 'D', '02':'A', '03':'C','04':'B','05':'A','06':'D','07':'C','08':'C','09':'A','10':'B'}\n",
        "provas = [['D','A','C','B','D', 'E', 'A','B', 'C', 'D'], ['A','B','A','B','D', 'E', 'A','B', 'C', 'D'], ['A','B','C','C','D', 'A', 'A','B', 'C', 'D']]\n",
        "corretor_de_provas(gabarito_prova, provas)"
      ],
      "metadata": {
        "id": "1bwNF6JsdNhB",
        "colab": {
          "base_uri": "https://localhost:8080/"
        },
        "outputId": "6d72e014-175f-46ca-fd94-3dcbf7834ee4"
      },
      "execution_count": null,
      "outputs": [
        {
          "output_type": "stream",
          "name": "stdout",
          "text": [
            "Nota da estudante 0 = 4\n",
            "Nota da estudante 1 = 1\n",
            "Nota da estudante 2 = 1\n"
          ]
        }
      ]
    },
    {
      "cell_type": "code",
      "source": [
        "'''\n",
        "10) Um instituto de meteorologia deseja fazer um estudo de temperatura média de cada mês do ano.\n",
        "Para isso, você precisa fazer um código que colete e armazene essas temperaturas médias em uma lista.\n",
        "Depois, calcule a média anual das temperaturas e mostre todas as temperaturas acima da média anual e em que mês elas ocorreram, mostrando os meses por extenso (Janeiro, Fevereiro, etc.).\n",
        "'''\n",
        "meses = {1:'Janeiro', 2:'Fevereiro', 3:'Março', 4:'Abril', 5:'Maio', 6:'Junho', 7:'Julho', 8:'Agosto', 9:'Setembro', 10:'Outubro',11:'Novembro',12:'Dezembro'}\n",
        "temperaturas_medias = []\n",
        "soma = 0\n",
        "for i in range(12):\n",
        "  num = float(input(f'Digite a média do mês {i+1}:'))\n",
        "  temperaturas_medias.append(num)\n",
        "  soma += num\n",
        "media_anual = float(soma/12)\n",
        "print(f'Média Anual da Temperatura: {media_anual}')\n",
        "temp_acima_media = {}\n",
        "for temp in range(12):\n",
        "  if(temperaturas_medias[temp] > media_anual):\n",
        "    print(meses[temp+1], temperaturas_medias[temp])\n",
        "    temp_acima_media.update({meses[temp+1]: temperaturas_medias[temp]})\n",
        "print(f'Temperaturas acima da média: {temp_acima_media}')"
      ],
      "metadata": {
        "id": "1SRIruKpdYbG",
        "colab": {
          "base_uri": "https://localhost:8080/"
        },
        "outputId": "5c147fa4-da2c-4324-85c5-82c9a8510be4"
      },
      "execution_count": null,
      "outputs": [
        {
          "output_type": "stream",
          "name": "stdout",
          "text": [
            "Digite a média do mês 1:25\n",
            "Digite a média do mês 2:23\n",
            "Digite a média do mês 3:26\n",
            "Digite a média do mês 4:24\n",
            "Digite a média do mês 5:20\n",
            "Digite a média do mês 6:30\n",
            "Digite a média do mês 7:32\n",
            "Digite a média do mês 8:28\n",
            "Digite a média do mês 9:27\n",
            "Digite a média do mês 10:26\n",
            "Digite a média do mês 11:22\n",
            "Digite a média do mês 12:21\n",
            "Média Anual da Temperatura: 25.333333333333332\n",
            "Março 26.0\n",
            "Junho 30.0\n",
            "Julho 32.0\n",
            "Agosto 28.0\n",
            "Setembro 27.0\n",
            "Outubro 26.0\n",
            "{'Março': 26.0, 'Junho': 30.0, 'Julho': 32.0, 'Agosto': 28.0, 'Setembro': 27.0, 'Outubro': 26.0}\n"
          ]
        }
      ]
    },
    {
      "cell_type": "code",
      "source": [
        "'''\n",
        "11) Uma empresa de e-commerce está interessada em analisar as vendas dos seus produtos. Os dados das vendas foram armazenados em um dicionário:\n",
        "\n",
        "{'Produto A': 300, 'Produto B': 80, 'Produto C': 60, 'Produto D': 200, 'Produto E': 250, 'Produto F': 30}\n",
        "\n",
        "Escreva um código que calcule o total de vendas e o produto mais vendido.\n",
        "'''\n",
        "vendas_por_produtos = {'Produto A': 300, 'Produto B': 80, 'Produto C': 60, 'Produto D': 200, 'Produto E': 250, 'Produto F': 30}\n",
        "soma_produtos = 0\n",
        "maior_venda = ''\n",
        "maior_venda_num = 0\n",
        "for letra in 'ABCDEF':\n",
        "  vendas = vendas_por_produtos[f'Produto {letra}']\n",
        "  soma_produtos += vendas\n",
        "  if(vendas >= maior_venda_num):\n",
        "    maior_venda = f'Produto {letra}'\n",
        "    maior_venda_num = vendas_por_produtos[maior_venda]\n",
        "print(f'Total de Vendas: {soma_produtos}')\n",
        "print(f'Maior venda, foi do {maior_venda}: {vendas_por_produtos[maior_venda]}')"
      ],
      "metadata": {
        "id": "unfsq0hIddVk",
        "colab": {
          "base_uri": "https://localhost:8080/"
        },
        "outputId": "d196705d-6ab5-46b5-bfc6-75da7d2adfe2"
      },
      "execution_count": null,
      "outputs": [
        {
          "output_type": "stream",
          "name": "stdout",
          "text": [
            "Total de Vendas: 920\n",
            "Maior venda, foi do Produto A: 300\n"
          ]
        }
      ]
    },
    {
      "cell_type": "code",
      "source": [
        "'''\n",
        "\n",
        "12) Uma pesquisa de mercado foi feita para decidir qual design de marca infantil mais agrada as crianças. A pesquisa foi feita e o votos computados podem ser observados abaixo:\n",
        "\n",
        "Tabela de votos da marca Design 1 - 1334 votos Design 2 - 982 votos Design 3 - 1751 votos Design 4 - 210 votos Design 5 - 1811 votos\n",
        "\n",
        "Adapte os dados fornecidos para uma estrutura de dicionário. A partir dele, informe o design vencedor e a porcentagem de votos recebidos.\n",
        "'''\n",
        "votos_por_marca = {'Design 1': 1334, 'Design 2':982, 'Design 3':1751, 'Design 4':210, 'Design 5': 1811}\n",
        "lista_keys = list(votos_por_marca.keys())\n",
        "soma = 0\n",
        "design_vencedor = ''\n",
        "maior_venda = 0\n",
        "for i in range(len(lista_keys)):\n",
        "  soma += votos_por_marca[f'Design {i+1}']\n",
        "  if(votos_por_marca[f'Design {i+1}'] > maior_venda):\n",
        "    maior_venda = votos_por_marca[f'Design {i+1}']\n",
        "    design_vencedor = f'Design {i+1}'\n",
        "\n",
        "percentagem = (maior_venda/soma)*100\n",
        "print('O design vencedor foi: %s com %0.2f por cento das vendas' % (design_vencedor,percentagem))"
      ],
      "metadata": {
        "id": "Y-S3QrbVdyxG",
        "colab": {
          "base_uri": "https://localhost:8080/"
        },
        "outputId": "536be79c-6eb8-4ff0-9ad1-8a490512d3eb"
      },
      "execution_count": null,
      "outputs": [
        {
          "output_type": "stream",
          "name": "stdout",
          "text": [
            "O design vencedor foi: Design 5 com 29.75 por cento das vendas\n"
          ]
        }
      ]
    },
    {
      "cell_type": "code",
      "source": [
        "'''\n",
        "13) As pessoas colaboradoras de um setor da empresa que você trabalha vão receber um abono correspondente a 10% do salário devido ao ótimo desempenho do time.\n",
        "O setor financeiro solicitou sua ajuda para a verificação das consequências financeiras que esse abono irá gerar nos recursos.\n",
        "Assim, foi encaminhada para você uma lista com os salários que receberão o abono: [1172, 1644, 2617, 5130, 5532, 6341, 6650, 7238, 7685, 7782, 7903].\n",
        "O abono de cada colaborador(a) não pode ser inferior a 200.\n",
        "Em código, transforme cada um dos salários em chaves de um dicionário e o abono de cada salário no elemento.\n",
        "Depois, informe o total de gastos com o abono, quantos(as) colaboradores(as) receberam o abono mínimo e qual o maior valor de abono fornecido.\n",
        "'''\n",
        "lista_salarios = [1172, 1644, 2617, 5130, 5532, 6341, 6650, 7238, 7685, 7782, 7903]\n",
        "salario_por_abono = {}\n",
        "abono_total = 0\n",
        "abono_minimo = 0\n",
        "abono_maior = 0\n",
        "for salario in lista_salarios:\n",
        "  abono = salario * 0.1\n",
        "  if(abono < 200):\n",
        "    abono = 200\n",
        "    abono_minimo += 1\n",
        "  elif(abono > abono_maior):\n",
        "    abono_maior = abono\n",
        "  abono_total += abono\n",
        "  salario_por_abono[salario] = abono\n",
        "print(f'Gastos com abonos: {abono_total}')\n",
        "print(f'Quantos receberam abono mínimo: {abono_minimo}')\n",
        "print(f'Maior abono: {abono_maior}')\n",
        "print(f'Salário por abono: {salario_por_abono}')"
      ],
      "metadata": {
        "colab": {
          "base_uri": "https://localhost:8080/"
        },
        "id": "_XMaIGp7PuKf",
        "outputId": "87bfcd76-0606-4f14-f72a-d09cf6d91b7a"
      },
      "execution_count": null,
      "outputs": [
        {
          "output_type": "stream",
          "name": "stdout",
          "text": [
            "Quantos receberam abono mínimo: 2\n",
            "Gastos com abonos: 6087.8\n",
            "Maior abono: 790.3000000000001\n",
            "Salário por abono: {1172: 200, 1644: 200, 2617: 261.7, 5130: 513.0, 5532: 553.2, 6341: 634.1, 6650: 665.0, 7238: 723.8000000000001, 7685: 768.5, 7782: 778.2, 7903: 790.3000000000001}\n"
          ]
        }
      ]
    },
    {
      "cell_type": "code",
      "source": [
        "'''\n",
        "14) Uma equipe de cientistas de dados está estudando a diversidade biológica em uma floresta.\n",
        "A equipe fez a coleta de informações sobre o número de espécies de plantas e animais em cada área dessa floresta e armazenou essas informações em um dicionário.\n",
        "Nele, a chave descreve a área dos dados e os valores nas listas correspondem às espécies de plantas e animais nas áreas, respectivamente.\n",
        "\n",
        "{'Área Norte': [2819, 7236],\n",
        " 'Área Leste': [1440, 9492],\n",
        " 'Área Sul': [5969, 7496],\n",
        " 'Área Oeste': [14446, 49688],\n",
        " 'Área Centro': [22558, 45148]}\n",
        "\n",
        "Escreva um código para calcular a média de espécies por área e identificar a área com a maior diversidade biológica. Dica: use as funções built-in sum() e len().\n",
        "'''\n",
        "especies_por_areas = {'Área Norte': [2819, 7236],\n",
        " 'Área Leste': [1440, 9492],\n",
        " 'Área Sul': [5969, 7496],\n",
        " 'Área Oeste': [14446, 49688],\n",
        " 'Área Centro': [22558, 45148]}\n",
        "areas = list(especies_por_areas.keys())\n",
        "medias = []\n",
        "maior_diversidade = 0\n",
        "area_maior_diversidade = ''\n",
        "for area in areas:\n",
        "  media = sum(especies_por_areas[area])/len(especies_por_areas)\n",
        "  medias.append(media)\n",
        "  if(media > maior_diversidade):\n",
        "    maior_diversidade = media\n",
        "    area_maior_diversidade = area\n",
        "print(f'Área com a maior diversidade: {area_maior_diversidade} com {maior_diversidade}')\n",
        "print(f'Médias das áreas: {medias}')"
      ],
      "metadata": {
        "colab": {
          "base_uri": "https://localhost:8080/"
        },
        "id": "WLQcKBEYP_XO",
        "outputId": "cc110dd5-9757-43c4-d726-861380e7f781"
      },
      "execution_count": null,
      "outputs": [
        {
          "output_type": "stream",
          "name": "stdout",
          "text": [
            "Área com a maior diversidade: Área Centro com 13541.2\n",
            "Médias das áreas: [2011.0, 2186.4, 2693.0, 12826.8, 13541.2]\n"
          ]
        }
      ]
    },
    {
      "cell_type": "code",
      "source": [
        "'''\n",
        "15) O setor de RH da sua empresa te pediu uma ajuda para analisar as idades de colaboradores(as) de 4 setores da empresa. Para isso, foram fornecidos os seguintes dados:\n",
        "\n",
        "{'Setor A': [22, 26, 30, 30, 35, 38, 40, 56, 57, 65],\n",
        " 'Setor B': [22, 24, 26, 33, 41, 49, 50, 54, 60, 64],\n",
        " 'Setor C': [23, 26, 26, 29, 34, 35, 36, 41, 52, 56],\n",
        " 'Setor D': [19, 20, 25, 27, 34, 39, 42, 44, 50, 65]}\n",
        "\n",
        "Sabendo que cada setor tem 10 colaboradores(as), construa um código que calcule:\n",
        "a média de idade de cada setor, a idade média geral entre todos os setores e quantas pessoas estão acima da idade média geral.\n",
        "\n",
        "'''\n",
        "funcionarios_por_setor = {'Setor A': [22, 26, 30, 30, 35, 38, 40, 56, 57, 65],\n",
        " 'Setor B': [22, 24, 26, 33, 41, 49, 50, 54, 60, 64],\n",
        " 'Setor C': [23, 26, 26, 29, 34, 35, 36, 41, 52, 56],\n",
        " 'Setor D': [19, 20, 25, 27, 34, 39, 42, 44, 50, 65]}\n",
        "idade_media_cada_setor = {}\n",
        "idade_media_geral = 0\n",
        "quantidade_pessoas_acima_media = 0\n",
        "soma_idades = 0\n",
        "setores = list(funcionarios_por_setor.keys())\n",
        "for setor in setores:\n",
        "  media = sum(funcionarios_por_setor[setor])/10\n",
        "  idade_media_cada_setor[setor] = media\n",
        "  soma_idades += sum(funcionarios_por_setor[setor])\n",
        "print(f'Idade média por setor: {idade_media_cada_setor}')\n",
        "idade_media_geral = soma_idades/40\n",
        "print(f'Media de idade da empresa: {idade_media_geral}')\n",
        "for setor in setores:\n",
        "  for i in range(10):\n",
        "    if(funcionarios_por_setor[setor][i] > idade_media_geral):\n",
        "      quantidade_pessoas_acima_media += 1\n",
        "\n",
        "print(f'Quantidade de Pessoas com idade acima da média da empresa: {quantidade_pessoas_acima_media}')"
      ],
      "metadata": {
        "id": "Ty2iZpJ1P_0x",
        "colab": {
          "base_uri": "https://localhost:8080/"
        },
        "outputId": "dc3c0211-0245-4d6a-ab93-ba2743fd9dff"
      },
      "execution_count": null,
      "outputs": [
        {
          "output_type": "stream",
          "name": "stdout",
          "text": [
            "Idade média por setor: {'Setor A': 39.9, 'Setor B': 42.3, 'Setor C': 35.8, 'Setor D': 36.5}\n",
            "Media de idade da empresa: 38.625\n",
            "Quantidade de Pessoas com idade acima da média da empresa: 18\n"
          ]
        }
      ]
    }
  ]
}