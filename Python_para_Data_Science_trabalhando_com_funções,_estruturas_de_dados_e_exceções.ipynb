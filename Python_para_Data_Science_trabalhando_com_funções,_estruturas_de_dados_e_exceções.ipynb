{
  "nbformat": 4,
  "nbformat_minor": 0,
  "metadata": {
    "colab": {
      "provenance": [],
      "authorship_tag": "ABX9TyOBur9QRaSjBOteSSvcb0d7",
      "include_colab_link": true
    },
    "kernelspec": {
      "name": "python3",
      "display_name": "Python 3"
    },
    "language_info": {
      "name": "python"
    }
  },
  "cells": [
    {
      "cell_type": "markdown",
      "metadata": {
        "id": "view-in-github",
        "colab_type": "text"
      },
      "source": [
        "<a href=\"https://colab.research.google.com/github/Davi-Mota-Nogueira/Jornada-Data-Science/blob/main/Python_para_Data_Science_trabalhando_com_fun%C3%A7%C3%B5es%2C_estruturas_de_dados_e_exce%C3%A7%C3%B5es.ipynb\" target=\"_parent\"><img src=\"https://colab.research.google.com/assets/colab-badge.svg\" alt=\"Open In Colab\"/></a>"
      ]
    },
    {
      "cell_type": "markdown",
      "source": [
        "# Notebook para Trabalho com Funções, Estruturas de Dados e Exceções\n",
        "- Ler bibliotecas e entender como funcionam;\n",
        "\n",
        "- Instalar, importar e aplicar essas bibliotecas;\n",
        "\n",
        "- Criar e interpretar funções (funções com e sem parâmetro, funções que retornam valores e funções anônimas);\n",
        "\n",
        "- Utilizar estruturas de dados compostas (listas de listas, listas de tuplas, criar listas e adicionais a partir do List comprehension);\n",
        "\n",
        "- Lidar com exceções nos códigos (entender quando um erro acontece no nosso programa e o que podemos fazer para passar esse erro ao usuário de maneira que ele entenda e que o programa não seja interrompido).\n"
      ],
      "metadata": {
        "id": "ZgupN4_z5HWC"
      }
    },
    {
      "cell_type": "markdown",
      "source": [
        "## 1. Bibliotecas"
      ],
      "metadata": {
        "id": "tgZbdGeX5eyg"
      }
    },
    {
      "cell_type": "code",
      "source": [
        "!pip install numpy==1.23.5\n",
        "!pip install matplotlib==3.6.2"
      ],
      "metadata": {
        "id": "m8ixrh3L7-RG"
      },
      "execution_count": null,
      "outputs": []
    },
    {
      "cell_type": "code",
      "source": [
        "import matplotlib.pyplot as plt\n",
        "estudantes = ['João', 'Maria','José']\n",
        "notas = [5.7,8.9,5.5]\n",
        "plt.bar(estudantes, notas)"
      ],
      "metadata": {
        "id": "bMSM8vOn_520"
      },
      "execution_count": null,
      "outputs": []
    },
    {
      "cell_type": "markdown",
      "source": [
        "### Aquecimento\n",
        "\n",
        "1. Escreva um código para instalar a versão 3.7.1 da biblioteca matplotlib.\n",
        "\n",
        "2. Escreva um código para importar a biblioteca numpy com o alias np.\n",
        "\n",
        "3. Crie um programa que leia a seguinte lista de números e escolha um número desta aleatoriamente.\n",
        "\n",
        "lista = [8, 12, 54, 23, 43, 1, 90, 87, 105, 77]\n",
        "\n",
        "4. Crie um programa que sorteia, aleatoriamente, um número inteiro positivo menor que 100.\n",
        "\n",
        "    Dica: use a função randrange() da biblioteca random. Essa função recebe como parâmetro o valor limite para a escolha aleatória ou um intervalo se passado o limite mínimo e máximo. Por exemplo, randrange(5) gera valores inteiros menores que 5.\n",
        "\n",
        "5. Crie um programa que solicite à pessoa usuária digitar dois números inteiros e calcular a potência do 1º número elevado ao 2º.\n",
        "\n",
        "    Dica: use a função pow() da biblioteca math"
      ],
      "metadata": {
        "id": "wWXaIQ1iPR85"
      }
    },
    {
      "cell_type": "code",
      "source": [
        "'''\n",
        "1. Escreva um código para instalar a versão 3.7.1 da biblioteca matplotlib.\n",
        "'''\n",
        "!pip install matplotlib==3.7.1\n",
        "'''\n",
        "2. Escreva um código para importar a biblioteca numpy com o alias np.\n",
        "'''\n",
        "import numpy as np"
      ],
      "metadata": {
        "id": "KAnhNZ1IVjKO"
      },
      "execution_count": null,
      "outputs": []
    },
    {
      "cell_type": "code",
      "source": [
        "'''\n",
        "3. Crie um programa que leia a seguinte lista de números e escolha um número desta aleatoriamente.\n",
        "\n",
        "lista = [8, 12, 54, 23, 43, 1, 90, 87, 105, 77]\n",
        "'''\n",
        "from random import choice\n",
        "lista = [8, 12, 54, 23, 43, 1, 90, 87, 105, 77]\n",
        "print(choice(lista))"
      ],
      "metadata": {
        "colab": {
          "base_uri": "https://localhost:8080/"
        },
        "id": "gcmjqbhZXXEG",
        "outputId": "43c18522-504c-47ce-94e4-1a9107dbddeb"
      },
      "execution_count": null,
      "outputs": [
        {
          "output_type": "stream",
          "name": "stdout",
          "text": [
            "105\n"
          ]
        }
      ]
    },
    {
      "cell_type": "code",
      "source": [
        "'''\n",
        "4. Crie um programa que sorteia, aleatoriamente, um número inteiro positivo menor que 100.\n",
        "\n",
        "    Dica: use a função randrange() da biblioteca random. Essa função recebe como parâmetro o valor limite para a escolha aleatória ou um intervalo se passado o limite mínimo e máximo. Por exemplo, randrange(5) gera valores inteiros menores que 5.\n",
        "'''\n",
        "from random import randrange\n",
        "print(randrange(0,100))"
      ],
      "metadata": {
        "colab": {
          "base_uri": "https://localhost:8080/"
        },
        "id": "ltdcwPvlXW7G",
        "outputId": "328eb9d0-9099-4002-c830-ca7bddd2e32d"
      },
      "execution_count": null,
      "outputs": [
        {
          "output_type": "stream",
          "name": "stdout",
          "text": [
            "74\n"
          ]
        }
      ]
    },
    {
      "cell_type": "code",
      "source": [
        "'''\n",
        "5. Crie um programa que solicite à pessoa usuária digitar dois números inteiros e calcular a potência do 1º número elevado ao 2º.\n",
        "\n",
        "    Dica: use a função pow() da biblioteca math\n",
        "'''\n",
        "from math import pow\n",
        "num_1 = int(input('Digite o primeiro número: '))\n",
        "num_2 = int(input('Digite o segundo número: '))\n",
        "print(f'A potência de {num_1} por {num_2} = {pow(num_1,num_2)}')"
      ],
      "metadata": {
        "colab": {
          "base_uri": "https://localhost:8080/"
        },
        "id": "tAB5o8biXWpx",
        "outputId": "bf2ec111-495a-4713-856d-6a7d375ed71b"
      },
      "execution_count": null,
      "outputs": [
        {
          "output_type": "stream",
          "name": "stdout",
          "text": [
            "Digite o primeiro número5\n",
            "Digite o segundo número2\n",
            "A potência de 5 por 2 = 25.0\n"
          ]
        }
      ]
    },
    {
      "cell_type": "markdown",
      "source": [
        "### Aplicando a projetos\n",
        "\n",
        "6. Um programa deve ser escrito para sortear uma pessoa seguidora de uma rede social para ganhar um prêmio. A lista de participantes é numerada e devemos escolher aleatoriamente um número de acordo com a quantidade de participantes. Peça à pessoa usuária para fornecer o número de participantes do sorteio e devolva para ela o número sorteado.\n",
        "\n",
        "7. Você recebeu uma demanda para gerar números de token para acessar o aplicativo de uma empresa. O token precisa ser par e variar de 1000 até 9998. Escreva um código que solicita à pessoa usuária o seu nome e exibe uma mensagem junto a esse token gerado aleatoriamente.\n",
        "\n",
        "\"Olá, [nome], o seu token de acesso é [token]! Seja bem-vindo(a)!\"\n",
        "\n",
        "8. Para diversificar e atrair novos(as) clientes, uma lanchonete criou um item misterioso em seu cardápio chamado \"salada de frutas surpresa\". Neste item, são escolhidas aleatoriamente 3 frutas de uma lista de 12 para compor a salada de frutas da pessoa cliente. Crie o código que faça essa seleção aleatória de acordo com a lista abaixo:\n",
        "\n",
        "frutas = [\"maçã\", \"banana\", \"uva\", \"pêra\",\n",
        "          \"manga\", \"coco\", \"melancia\", \"mamão\",\n",
        "          \"laranja\", \"abacaxi\", \"kiwi\", \"ameixa\"]\n",
        "\n",
        "9. Você recebeu um desafio de calcular a raiz quadrada de uma lista de números, identificando quais resultaram em um número inteiro. A lista é a seguinte:\n",
        "\n",
        "numeros = [2, 8, 15, 23, 91, 112, 256]\n",
        "\n",
        "No final, informe quais números possuem raízes inteiras e seus respectivos valores.\n",
        "\n",
        "    Dica: use a comparação entre a divisão inteira (//) da raiz por 1 com o valor da raiz para verificar se o número é inteiro. Por exemplo:\n",
        "\n",
        "num = 1.5\n",
        "num_2 = 2\n",
        "print(f'{num} é inteiro? :', num // 1 == num)\n",
        "print(f'{num_2} é inteiro? :', num_2 // 1 == num_2)\n",
        "\n",
        "Saída:\n",
        "\n",
        "1.5 é inteiro? : False\n",
        "2 é inteiro? : True\n",
        "\n",
        "10. Faça um programa para uma loja que vende grama para jardins. Essa loja trabalha com jardins circulares e o preço do metro quadrado da grama é de R$ 25,00. Peça à pessoa usuária o raio da área circular e devolva o valor em reais do quanto precisará pagar.\n",
        "\n",
        "    Dica: use a variável pi e o método pow() da biblioteca math. O cálculo da área de um círculo é de: A = π*r^2 (lê-se pi vezes raio ao quadrado).\n"
      ],
      "metadata": {
        "id": "mIAJml_OVhd6"
      }
    },
    {
      "cell_type": "code",
      "source": [
        "'''\n",
        "6. Um programa deve ser escrito para sortear uma pessoa seguidora de uma rede social para ganhar um prêmio.\n",
        "A lista de participantes é numerada e devemos escolher aleatoriamente um número de acordo com a quantidade de participantes.\n",
        "Peça à pessoa usuária para fornecer o número de participantes do sorteio e devolva para ela o número sorteado.\n",
        "'''\n",
        "from random import randrange\n",
        "numero_participantes = int(input('Digite a quantidade de participantes: '))\n",
        "print(f'Número ganhador foi: {randrange(0,numero_participantes)}')"
      ],
      "metadata": {
        "colab": {
          "base_uri": "https://localhost:8080/"
        },
        "id": "clHRpfUCYHyP",
        "outputId": "ab5c4932-8da0-4892-b70d-d050e5f6d52a"
      },
      "execution_count": null,
      "outputs": [
        {
          "output_type": "stream",
          "name": "stdout",
          "text": [
            "Digite a quantidade de participantes: 200\n",
            "Número ganhador foi: 28\n"
          ]
        }
      ]
    },
    {
      "cell_type": "code",
      "source": [
        "'''\n",
        "7. Você recebeu uma demanda para gerar números de token para acessar o aplicativo de uma empresa.\n",
        "O token precisa ser par e variar de 1000 até 9998. Escreva um código que solicita à pessoa usuária o seu nome e exibe uma mensagem junto a esse token gerado aleatoriamente.\n",
        "\n",
        "\"Olá, [nome], o seu token de acesso é [token]! Seja bem-vindo(a)!\"\n",
        "'''\n",
        "from random import randrange\n",
        "usuario = input('Digite seu nome de usuário: ')\n",
        "token = randrange(1000,9998,2)\n",
        "print(f'Olá, {usuario}, o seu token de acesso é {token}! Seja bem-vindo(a)!')"
      ],
      "metadata": {
        "colab": {
          "base_uri": "https://localhost:8080/"
        },
        "id": "rAqz8ORJcS_k",
        "outputId": "6548170f-afac-4bb4-aac2-7235330d3166"
      },
      "execution_count": null,
      "outputs": [
        {
          "output_type": "stream",
          "name": "stdout",
          "text": [
            "Digite seu nome de usuário: Davi\n",
            "Olá, Davi, o seu token de acesso é 2570! Seja bem-vindo(a)!\n"
          ]
        }
      ]
    },
    {
      "cell_type": "code",
      "source": [
        "'''\n",
        "8. Para diversificar e atrair novos(as) clientes, uma lanchonete criou um item misterioso em seu cardápio chamado \"salada de frutas surpresa\".\n",
        "Neste item, são escolhidas aleatoriamente 3 frutas de uma lista de 12 para compor a salada de frutas da pessoa cliente.\n",
        "Crie o código que faça essa seleção aleatória de acordo com a lista abaixo:\n",
        "\n",
        "frutas = [\"maçã\", \"banana\", \"uva\", \"pêra\",\n",
        "          \"manga\", \"coco\", \"melancia\", \"mamão\",\n",
        "          \"laranja\", \"abacaxi\", \"kiwi\", \"ameixa\"]\n",
        "'''\n",
        "from random import choice\n",
        "frutas = [\"maçã\", \"banana\", \"uva\", \"pêra\",\n",
        "          \"manga\", \"coco\", \"melancia\", \"mamão\",\n",
        "          \"laranja\", \"abacaxi\", \"kiwi\", \"ameixa\"]\n",
        "escolhas = []\n",
        "for i in range(3):\n",
        "  escolhas.append(choice(frutas))\n",
        "print(f'Sua salada de frutas vai ser composta de: {escolhas}')"
      ],
      "metadata": {
        "colab": {
          "base_uri": "https://localhost:8080/"
        },
        "id": "oh7ux03ocS5F",
        "outputId": "324d85d0-ea87-4112-d913-ba8c27236168"
      },
      "execution_count": null,
      "outputs": [
        {
          "output_type": "stream",
          "name": "stdout",
          "text": [
            "Sua salada de frutas vai ser composta de: ['manga', 'manga', 'abacaxi']\n"
          ]
        }
      ]
    },
    {
      "cell_type": "code",
      "source": [
        "'''\n",
        "9. Você recebeu um desafio de calcular a raiz quadrada de uma lista de números, identificando quais resultaram em um número inteiro. A lista é a seguinte:\n",
        "\n",
        "numeros = [2, 8, 15, 23, 91, 112, 256]\n",
        "\n",
        "No final, informe quais números possuem raízes inteiras e seus respectivos valores.\n",
        "\n",
        "    Dica: use a comparação entre a divisão inteira (//) da raiz por 1 com o valor da raiz para verificar se o número é inteiro. Por exemplo:\n",
        "\n",
        "num = 1.5\n",
        "num_2 = 2\n",
        "print(f'{num} é inteiro? :', num // 1 == num)\n",
        "print(f'{num_2} é inteiro? :', num_2 // 1 == num_2)\n",
        "\n",
        "Saída:\n",
        "\n",
        "1.5 é inteiro? : False\n",
        "2 é inteiro? : True\n",
        "'''\n",
        "numeros = [2, 8, 15, 23, 25.4, 91, 112, 256]\n",
        "for num in numeros:\n",
        "  print(f'{num} é inteiro?:', num//1 == num)"
      ],
      "metadata": {
        "colab": {
          "base_uri": "https://localhost:8080/"
        },
        "id": "5N03VUlTcSz1",
        "outputId": "780be4a3-83e7-4a48-a60e-2fa3a1d9b535"
      },
      "execution_count": null,
      "outputs": [
        {
          "output_type": "stream",
          "name": "stdout",
          "text": [
            "2 é inteiro?: True\n",
            "8 é inteiro?: True\n",
            "15 é inteiro?: True\n",
            "23 é inteiro?: True\n",
            "25.4 é inteiro?: False\n",
            "91 é inteiro?: True\n",
            "112 é inteiro?: True\n",
            "256 é inteiro?: True\n"
          ]
        }
      ]
    },
    {
      "cell_type": "code",
      "source": [
        "'''\n",
        "10. Faça um programa para uma loja que vende grama para jardins. Essa loja trabalha com jardins circulares e o preço do metro quadrado da grama é de R$ 25,00.\n",
        "Peça à pessoa usuária o raio da área circular e devolva o valor em reais do quanto precisará pagar.\n",
        "\n",
        "    Dica: use a variável pi e o método pow() da biblioteca math. O cálculo da área de um círculo é de: A = π*r^2 (lê-se pi vezes raio ao quadrado).\n",
        "'''\n",
        "from math import pow, pi\n",
        "raio = float(input('Digite o tamanho do raio de grama(em metros): '))\n",
        "valor_a_pagar = 25 * (pi * pow(raio,2))\n",
        "print('Valor a pagar pela grama de raio %0.2fm = R$%0.2f' % (raio,valor_a_pagar))"
      ],
      "metadata": {
        "colab": {
          "base_uri": "https://localhost:8080/"
        },
        "id": "mnq_fT7EcSxe",
        "outputId": "5617a3be-e983-4257-f3cd-a3199613206f"
      },
      "execution_count": null,
      "outputs": [
        {
          "output_type": "stream",
          "name": "stdout",
          "text": [
            "Digite o tamanho do raio de grama(em metros): 2\n",
            "Valor a pagar pela grama de raio 2.00m = R$314.16\n"
          ]
        }
      ]
    },
    {
      "cell_type": "markdown",
      "source": [
        "## 2. Funções\n",
        "- Compreender o que são built-in functions (funções embutidas) e como utilizá-las.\n",
        "- Criar funções com e sem parâmetros de entrada.\n",
        "- Criar funções com e sem retorno de valores.\n",
        "- Documentar as funções a partir do uso de Type hint, default value e docstring.\n",
        "- Compreender e criar funções anônimas (Lambda Functions)."
      ],
      "metadata": {
        "id": "0MhjgCCjVTH4"
      }
    },
    {
      "cell_type": "code",
      "source": [
        "# Como fazer uma função documentada de melhor forma\n",
        "def media(lista :list=[0]) -> float:\n",
        "  '''\n",
        "  Função para calcular a média de uma lista de notas disponibilizada pelo usuário\n",
        "  Parâmetro: list\n",
        "  Retorno: float\n",
        "  '''"
      ],
      "metadata": {
        "id": "y8O23S1qb0B5"
      },
      "execution_count": null,
      "outputs": []
    },
    {
      "cell_type": "markdown",
      "source": [
        "### Aquecimento\n",
        "\n",
        "1. Escreva um código que lê a lista abaixo e faça:\n",
        "\n",
        "lista = [16, 14, 63, 65, 17, 99, 70, 11, 20, 48, 79, 32, 17, 89, 12, 25, 66]\n",
        "\n",
        "    A leitura do tamanho da lista\n",
        "    A leitura do maior e menor valor\n",
        "    A soma dos valores da lista\n",
        "\n",
        "Ao final exiba uma mensagem dizendo:\n",
        "\n",
        "\"A lista possui [tam] números em que o maior número é [maior] e o menor número é [menor]. A soma dos valores presentes nela é igual a [soma]\"\n",
        "\n",
        "    Dica: use as funções embutidas presentes na documentação do Python.\n",
        "\n",
        "2. Escreva uma função que gere a tabuada de um número inteiro de 1 a 10, de acordo com a escolha da pessoa usuária. Como exemplo, para o número 7, a tabuada deve ser mostrada no seguinte formato:\n",
        "\n",
        "Tabuada do 7:\n",
        "7 x 0 = 0\n",
        "7 x 1 = 7\n",
        "[...]\n",
        "7 x 10 = 70\n",
        "\n",
        "3. Crie a função que leia a lista abaixo e retorne uma nova lista com os múltiplos de 3:\n",
        "\n",
        "[97, 80, 94, 88, 80, 1, 16, 53, 62, 32, 24, 99]\n",
        "\n",
        "Utilize o return na função e salve a nova lista na variável mult_3.\n",
        "\n",
        "4. Crie uma lista dos quadrados dos números da seguinte lista [1, 2, 3, 4, 5, 6, 7, 8, 9, 10]. Lembre-se de utilizar as funções lambda e map() para calcular o quadrado de cada elemento da lista."
      ],
      "metadata": {
        "id": "6-vrxJWgkSH1"
      }
    },
    {
      "cell_type": "code",
      "source": [
        "'''\n",
        "1. Escreva um código que lê a lista abaixo e faça:\n",
        "\n",
        "lista = [16, 14, 63, 65, 17, 99, 70, 11, 20, 48, 79, 32, 17, 89, 12, 25, 66]\n",
        "\n",
        "    A leitura do tamanho da lista\n",
        "    A leitura do maior e menor valor\n",
        "    A soma dos valores da lista\n",
        "\n",
        "Ao final exiba uma mensagem dizendo:\n",
        "\n",
        "\"A lista possui [tam] números em que o maior número é [maior] e o menor número é [menor]. A soma dos valores presentes nela é igual a [soma]\"\n",
        "\n",
        "    Dica: use as funções embutidas presentes na documentação do Python.\n",
        "'''\n",
        "lista = [16, 14, 63, 65, 17, 99, 70, 11, 20, 48, 79, 32, 17, 89, 12, 25, 66]\n",
        "tamanho_lista = len(lista)\n",
        "lista.sort()\n",
        "maior = lista[-1]\n",
        "menor = lista[0]\n",
        "soma = sum(lista)\n",
        "print(f'A lista possui {tamanho_lista} números em que o maior número é {maior} e o menor número é {menor}. A soma dos valores presentes nela é igual a {soma}')"
      ],
      "metadata": {
        "colab": {
          "base_uri": "https://localhost:8080/"
        },
        "id": "lZAVe29mlxJx",
        "outputId": "8e132c42-8093-4f29-dcad-1151a94eff87"
      },
      "execution_count": null,
      "outputs": [
        {
          "output_type": "stream",
          "name": "stdout",
          "text": [
            "A lista possui 17 números em que o maior número é 99 e o menor número é 11. A soma dos valores presentes nela é igual a 743\n"
          ]
        }
      ]
    },
    {
      "cell_type": "code",
      "source": [
        "'''\n",
        "2. Escreva uma função que gere a tabuada de um número inteiro de 1 a 10, de acordo com a escolha da pessoa usuária. Como exemplo, para o número 7, a tabuada deve ser mostrada no seguinte formato:\n",
        "\n",
        "Tabuada do 7:\n",
        "7 x 0 = 0\n",
        "7 x 1 = 7\n",
        "[...]\n",
        "7 x 10 = 70\n",
        "'''\n",
        "def tabuada(num: int=0):\n",
        "  for i in range(11):\n",
        "    print(f'{num} x {i} = {num*i}')\n",
        "tabuada(7)"
      ],
      "metadata": {
        "id": "VgvRaaqlsC5A"
      },
      "execution_count": null,
      "outputs": []
    },
    {
      "cell_type": "code",
      "source": [
        "'''\n",
        "3. Crie a função que leia a lista abaixo e retorne uma nova lista com os múltiplos de 3:\n",
        "\n",
        "[97, 80, 94, 88, 80, 1, 16, 53, 62, 32, 24, 99]\n",
        "\n",
        "Utilize o return na função e salve a nova lista na variável mult_3.\n",
        "'''\n",
        "def multiplos_tres(lista: list=[0]) -> list:\n",
        "  '''\n",
        "  Saber quais números de uma lista é múltiplo de 3\n",
        "  Parâmetro: lista de int\n",
        "  Retorno: lista de int\n",
        "  '''\n",
        "  return list(filter(lambda x: x%3==0, lista))\n",
        "lista = [97, 80, 94, 88, 80, 1, 16, 53, 62, 32, 24, 99]\n",
        "multiplos_tres(lista)"
      ],
      "metadata": {
        "colab": {
          "base_uri": "https://localhost:8080/"
        },
        "id": "H28Si2SruRKW",
        "outputId": "cb7ccd2c-c808-4cf6-9ff0-4da18a292ee1"
      },
      "execution_count": null,
      "outputs": [
        {
          "output_type": "execute_result",
          "data": {
            "text/plain": [
              "[24, 99]"
            ]
          },
          "metadata": {},
          "execution_count": 4
        }
      ]
    },
    {
      "cell_type": "code",
      "source": [
        "'''\n",
        "4. Crie uma lista dos quadrados dos números da seguinte lista [1, 2, 3, 4, 5, 6, 7, 8, 9, 10]. Lembre-se de utilizar as funções lambda e map() para calcular o quadrado de cada elemento da lista.\n",
        "'''\n",
        "def ao_quadrado(lista:list=[0])->list:\n",
        "  '''\n",
        "  Função para colocar os números de uma lista ao quadrado\n",
        "  Parâmetro: lista de int\n",
        "  Retorno: lista de int\n",
        "  '''\n",
        "  return list(map(lambda x:x**2, lista))\n",
        "lista_teste = [1, 2, 3, 4, 5, 6, 7, 8, 9, 10]\n",
        "ao_quadrado(lista_teste)"
      ],
      "metadata": {
        "colab": {
          "base_uri": "https://localhost:8080/"
        },
        "id": "qivmyISquQ4Y",
        "outputId": "643cb4d4-a7b8-405f-86df-cd1e1dfdd5da"
      },
      "execution_count": null,
      "outputs": [
        {
          "output_type": "execute_result",
          "data": {
            "text/plain": [
              "[1, 4, 9, 16, 25, 36, 49, 64, 81, 100]"
            ]
          },
          "metadata": {},
          "execution_count": 5
        }
      ]
    },
    {
      "cell_type": "markdown",
      "source": [
        "### Aplicando a projetos\n",
        "\n",
        "5. Você foi contratado(a) como cientista de dados de uma associação de skate. Para analisar as notas recebidas de skatistas em algumas competições ao longo do ano, você precisa criar um código que calcula a pontuação dos(as) atletas. Para isso, o seu código deve receber 5 notas digitadas pelas pessoas juradas.\n",
        "\n",
        "Para calcular a pontuação de um(a) skatista, você precisa eliminar a maior e a menor pontuação dentre as 5 notas e tirar a média das 3 notas que sobraram. Retorne a média para apresentar o texto:\n",
        "\n",
        "\"Nota da manobra: [media]\"\n",
        "\n",
        "6. Para atender a uma demanda de uma instituição de ensino para a análise do desempenho de seus(suas) estudantes, você precisa criar uma função que receba uma lista de 4 notas e retorne:\n",
        "\n",
        "    maior nota\n",
        "    menor nota\n",
        "    média\n",
        "    situação (Aprovado(a) ou Reprovado(a))\n",
        "\n",
        "Para testar o comportamento da função, os dados podem ser exibidos em um texto:\n",
        "\n",
        "\"O(a) estudante obteve uma média de [media], com a sua maior nota de [maior] pontos e a menor nota de [menor] pontos e foi [situacao]\"\n",
        "\n",
        "7. Você recebeu uma demanda para tratar 2 listas com os nomes e sobrenomes de cada estudante concatenando-as para apresentar seus nomes completos na forma Nome Sobrenome. As listas são:\n",
        "\n",
        "nomes = [\"joão\", \"MaRia\", \"JOSÉ\"]\n",
        "sobrenomes = [\"SILVA\", \"souza\", \"Tavares\"]\n",
        "\n",
        "O texto exibido ao fim deve ser parecido com:\n",
        "\n",
        "\"Nome completo: Ana Silva\"\n",
        "\n",
        "    Dica: utilize a função map para mapear os nomes e sobrenomes e as funções de string para tratar o texto.\n",
        "\n",
        "8. Como cientista de dados em um time de futebol, você precisa implementar novas formas de coleta de dados sobre o desempenho de jogadores e do time como um todo. Sua primeira ação é criar uma forma de calcular a pontuação do time no campeonato nacional a partir dos dados de gols marcados e sofridos em cada jogo.\n",
        "\n",
        "Escreva uma função chamada calcula_pontos que recebe como parâmetros duas listas de números inteiros, representando os gols marcados e sofridos pelo time em cada partida do campeonato. A função deve retornar a pontuação do time e o aproveitamento em percentual, levando em consideração que a vitória vale 3 pontos, o empate vale 1 ponto e a derrota 0 pontos.\n",
        "\n",
        "    Observação: se a quantidade de gols marcados numa partida for maior que a de sofridos, o time venceu. Caso seja igual, o time empatou e se for menor, o time perdeu. Para calcular o aproveitamento devemos fazer a razão entre a pontuação do time pela pontuação máxima que ele poderia receber.\n",
        "\n",
        "Para teste, utilize as seguintes listas de gols marcados e sofridos:\n",
        "\n",
        "gols_marcados = [2, 1, 3, 1, 0]\n",
        "gols_sofridos = [1, 2, 2, 1, 3]\n",
        "\n",
        "Provável texto exibido:\n",
        "\n",
        "\"A pontuação do time foi de [pontos] e seu aproveitamento foi de [aprov]%\"\n",
        "\n",
        "9. Você recebeu o desafio de criar um código que calcula os gastos de uma viagem para um das quatro cidades partindo de Recife, sendo elas: Salvador, Fortaleza, Natal e Aracaju.\n",
        "\n",
        "O custo da diária do hotel é de 150 reais em todas elas e o consumo de gasolina na viagem de carro é de 14 km/l, sendo que o valor da gasolina é de 5 reais o litro. O gastos com passeios e alimentação a se fazer em cada uma delas por dia seria de [200, 400, 250, 300], respectivamente.\n",
        "\n",
        "Sabendo que as distâncias entre Recife e cada uma das cidades é de aproximadamente [850, 800, 300, 550] km, crie três funções nas quais: a 1ª função calcule os gastos com hotel (gasto_hotel), a 2ª calcule os gastos com a gasolina (gasto_gasolina) e a 3ª os gastos com passeio e alimentação (gasto_passeio).\n",
        "\n",
        "Para testar, simule uma viagem de 3 dias para Salvador partindo de Recife. Considere a viagem de ida e volta de carro.\n",
        "\n",
        "\"Com base nos gastos definidos, uma viagem de [dias] dias para [cidade] saindo de Recife custaria [gastos] reais\"\n",
        "\n",
        "10. Você iniciou um estágio em uma empresa que trabalha com processamento de linguagem natural (NLP). Sua líder requisitou que você criasse um trecho de código que recebe uma frase digitada pela pessoa usuária e filtre apenas as palavras com tamanho maior ou igual a 5, exibindo-as em uma lista. Essa demanda é voltada para a análise do padrão de comportamento de pessoas na escrita de palavras acima dessa quantidade de caracteres.\n",
        "\n",
        "    Dica: utilize as funções lambda e filter() para filtrar essas palavras. Lembrando que a função embutida filter() recebe uma função (no nosso exemplo uma função lambda) e filtra um iterável de acordo com a função. Para tratar a frase use replace() para trocar a ',' '.', '!' e '?' por espaço.\n",
        "\n",
        "Use a frase \"Aprender Python aqui na Alura é muito bom\" para testar o código."
      ],
      "metadata": {
        "id": "RacXrqpzkaPP"
      }
    },
    {
      "cell_type": "code",
      "source": [
        "'''\n",
        "5. Você foi contratado(a) como cientista de dados de uma associação de skate.\n",
        "Para analisar as notas recebidas de skatistas em algumas competições ao longo do ano, você precisa criar um código que calcula a pontuação dos(as) atletas.\n",
        "Para isso, o seu código deve receber 5 notas digitadas pelas pessoas juradas.\n",
        "\n",
        "Para calcular a pontuação de um(a) skatista, você precisa eliminar a maior e a menor pontuação dentre as 5 notas e tirar a média das 3 notas que sobraram. Retorne a média para apresentar o texto:\n",
        "\n",
        "\"Nota da manobra: [media]\"\n",
        "'''\n",
        "def media_manobra() -> float:\n",
        "  notas = []\n",
        "  for i in range(5):\n",
        "    num = float(input(f'Digite a pontuação do jurado {i+1}: '))\n",
        "    notas.append(num)\n",
        "  notas.sort()\n",
        "  notas = notas[1:-1]\n",
        "  return(sum(notas)/len(notas))\n",
        "media = media_manobra()\n",
        "print('Nota da manobra: %0.2f' % media)"
      ],
      "metadata": {
        "colab": {
          "base_uri": "https://localhost:8080/"
        },
        "id": "JFRbAN6EyQ_5",
        "outputId": "2d3e8977-8435-463b-864e-fb31003a3a58"
      },
      "execution_count": null,
      "outputs": [
        {
          "output_type": "stream",
          "name": "stdout",
          "text": [
            "Digite a pontuação do jurado 1: 5\n",
            "Digite a pontuação do jurado 2: 9\n",
            "Digite a pontuação do jurado 3: 8\n",
            "Digite a pontuação do jurado 4: 10\n",
            "Digite a pontuação do jurado 5: 7\n",
            "Nota da manobra: 8.00\n"
          ]
        }
      ]
    },
    {
      "cell_type": "code",
      "source": [
        "'''\n",
        "6. Para atender a uma demanda de uma instituição de ensino para a análise do desempenho de seus(suas) estudantes,\n",
        "você precisa criar uma função que receba uma lista de 4 notas e retorne:\n",
        "\n",
        "    maior nota\n",
        "    menor nota\n",
        "    média\n",
        "    situação (Aprovado(a) ou Reprovado(a))\n",
        "\n",
        "Para testar o comportamento da função, os dados podem ser exibidos em um texto:\n",
        "\n",
        "\"O(a) estudante obteve uma média de [media], com a sua maior nota de [maior] pontos e a menor nota de [menor] pontos e foi [situacao]\"\n",
        "'''\n",
        "def desempenho_estudante(lista_notas:list[0,0,0,0]) -> tuple:\n",
        "  '''\n",
        "  Recebendo uma lista de notas(preferencialmente de 4) de um aluno, a função vai determinar:\n",
        "  - maior nota,\n",
        "  - menor nota,\n",
        "  - média geral\n",
        "  - situação do aluno(Aprovado(a) ou Reprovado(a))\n",
        "  Parametro: Lista de float\n",
        "  Retorno: tupla\n",
        "  '''\n",
        "  lista_notas.sort()\n",
        "  maior = lista_notas[-1]\n",
        "  menor = lista_notas[0]\n",
        "  media = sum(lista_notas)/len(lista_notas)\n",
        "  situacao = 'Reprovado(a)'\n",
        "  if(media >= 7):\n",
        "    situacao = 'Aprovado(a)'\n",
        "  return (maior, menor, media, situacao)\n",
        "notas = [8,9,5,8]\n",
        "maior, menor, media, situacao = desempenho_estudante(notas)\n",
        "print('O(a) estudante obteve uma média de %0.2f, com a sua maior nota de %0.2f pontos e a menor nota de %0.2f pontos e foi %s' % (media,maior,menor,situacao))"
      ],
      "metadata": {
        "colab": {
          "base_uri": "https://localhost:8080/"
        },
        "id": "dfhMNzvg17l7",
        "outputId": "80e1e477-37b1-4db2-e457-23a73379375d"
      },
      "execution_count": null,
      "outputs": [
        {
          "output_type": "stream",
          "name": "stdout",
          "text": [
            "O(a) estudante obteve uma média de 7.50, com a sua maior nota de 9.00 pontos e a menor nota de 5.00 pontos e foi Aprovado(a)\n"
          ]
        }
      ]
    },
    {
      "cell_type": "code",
      "source": [
        "'''\n",
        "7. Você recebeu uma demanda para tratar 2 listas com os nomes e sobrenomes de cada estudante concatenando-as para apresentar seus nomes completos na forma Nome Sobrenome.\n",
        "As listas são:\n",
        "\n",
        "nomes = [\"joão\", \"MaRia\", \"JOSÉ\"]\n",
        "sobrenomes = [\"SILVA\", \"souza\", \"Tavares\"]\n",
        "\n",
        "O texto exibido ao fim deve ser parecido com:\n",
        "\n",
        "\"Nome completo: Ana Silva\"\n",
        "\n",
        "    Dica: utilize a função map para mapear os nomes e sobrenomes e as funções de string para tratar o texto.\n",
        "'''\n",
        "def nome_sobrenome(nomes: list, sobrenomes:list) -> list:\n",
        "  '''\n",
        "  Concatenização de duas listas, uma com nome e outra com sobrenome, será feita da forma indexada, primeiro nome com primeiro sobrenome,\n",
        "  segundo nome com segundo sobrenome, assim por diante.\n",
        "  Parâmetros: (lista, lista)\n",
        "  Retorno: lista\n",
        "  '''\n",
        "  nomes = list(map(lambda x: x.capitalize(), nomes))\n",
        "  sobrenomes = list(map(lambda x : x.capitalize(), sobrenomes))\n",
        "  nomes_sobrenomes = []\n",
        "  for i in range(len(nomes)):\n",
        "    nomes_sobrenomes.append(f'{nomes[i]} {sobrenomes[i]}')\n",
        "  return nomes_sobrenomes\n",
        "nomes = [\"joão\", \"MaRia\", \"JOSÉ\"]\n",
        "sobrenomes = [\"SILVA\", \"souza\", \"Tavares\"]\n",
        "lista_completa = nome_sobrenome(nomes,sobrenomes)\n",
        "print(lista_completa)"
      ],
      "metadata": {
        "id": "zuwyDGmU3W0H",
        "colab": {
          "base_uri": "https://localhost:8080/"
        },
        "outputId": "cadb74ba-65c3-4973-b801-21d86af541f5"
      },
      "execution_count": null,
      "outputs": [
        {
          "output_type": "stream",
          "name": "stdout",
          "text": [
            "['João Silva', 'Maria Souza', 'José Tavares']\n"
          ]
        }
      ]
    },
    {
      "cell_type": "code",
      "source": [
        "'''\n",
        "8. Como cientista de dados em um time de futebol, você precisa implementar novas formas de coleta de dados sobre o desempenho de jogadores e do time como um todo.\n",
        "Sua primeira ação é criar uma forma de calcular a pontuação do time no campeonato nacional a partir dos dados de gols marcados e sofridos em cada jogo.\n",
        "\n",
        "Escreva uma função chamada calcula_pontos que recebe como parâmetros duas listas de números inteiros,\n",
        "representando os gols marcados e sofridos pelo time em cada partida do campeonato.\n",
        "A função deve retornar a pontuação do time e o aproveitamento em percentual, levando em consideração que a vitória vale 3 pontos, o empate vale 1 ponto e a derrota 0 pontos.\n",
        "\n",
        "    Observação: se a quantidade de gols marcados numa partida for maior que a de sofridos, o time venceu. Caso seja igual, o time empatou e se for menor, o time perdeu.\n",
        "    Para calcular o aproveitamento devemos fazer a razão entre a pontuação do time pela pontuação máxima que ele poderia receber.\n",
        "\n",
        "Para teste, utilize as seguintes listas de gols marcados e sofridos:\n",
        "\n",
        "gols_marcados = [2, 1, 3, 1, 0]\n",
        "gols_sofridos = [1, 2, 2, 1, 3]\n",
        "\n",
        "Provável texto exibido:\n",
        "\n",
        "\"A pontuação do time foi de [pontos] e seu aproveitamento foi de [aprov]%\"\n",
        "'''\n",
        "def calcula_pontos(gols_marcados: list, gols_sofridos: list) -> tuple:\n",
        "  '''\n",
        "  Calcula a pontuação do time a partir dos gols marcados e sofridos, além do aproveitamento percentual\n",
        "  Parâmetros: (lista, lista)\n",
        "  Retorno: tupla\n",
        "  '''\n",
        "  pontuacao_maxima = 3 * len(gols_marcados)\n",
        "  pontos_feitos = 0\n",
        "  for i in range(len(gols_marcados)):\n",
        "    if(gols_marcados[i] > gols_sofridos[i]):\n",
        "      pontos_feitos += 3\n",
        "    elif(gols_marcados[i] == gols_sofridos[i]):\n",
        "      pontos_feitos += 1\n",
        "  aproveitamento = (pontos_feitos/pontuacao_maxima) * 100\n",
        "  aproveitamento = round(aproveitamento, 2)\n",
        "  return(pontos_feitos, aproveitamento)\n",
        "gols_marcados = [2, 1, 3, 1, 0]\n",
        "gols_sofridos = [1, 2, 2, 1, 3]\n",
        "pontos, aprov_percent = calcula_pontos(gols_marcados, gols_sofridos)\n",
        "print(f'A pontuação do time foi de {pontos} pontos e seu aproveitamento foi de {aprov_percent}%')"
      ],
      "metadata": {
        "id": "njciir7t3WwH",
        "colab": {
          "base_uri": "https://localhost:8080/"
        },
        "outputId": "34c00703-3e16-4246-c9ef-fd605286f5e6"
      },
      "execution_count": null,
      "outputs": [
        {
          "output_type": "stream",
          "name": "stdout",
          "text": [
            "A pontuação do time foi de 7 pontos e seu aproveitamento foi de 46.67%\n"
          ]
        }
      ]
    },
    {
      "cell_type": "code",
      "source": [
        "'''\n",
        "9. Você recebeu o desafio de criar um código que calcula os gastos de uma viagem para um das quatro cidades partindo de Recife, sendo elas: Salvador, Fortaleza, Natal e Aracaju.\n",
        "\n",
        "O custo da diária do hotel é de 150 reais em todas elas e o consumo de gasolina na viagem de carro é de 14 km/l, sendo que o valor da gasolina é de 5 reais o litro.\n",
        "O gastos com passeios e alimentação a se fazer em cada uma delas por dia seria de [200, 400, 250, 300], respectivamente.\n",
        "\n",
        "Sabendo que as distâncias entre Recife e cada uma das cidades é de aproximadamente [850, 800, 300, 550] km,\n",
        "crie três funções nas quais: a 1ª função calcule os gastos com hotel (gasto_hotel), a 2ª calcule os gastos com a gasolina (gasto_gasolina)\n",
        "e a 3ª os gastos com passeio e alimentação (gasto_passeio).\n",
        "\n",
        "Para testar, simule uma viagem de 3 dias para Salvador partindo de Recife. Considere a viagem de ida e volta de carro.\n",
        "\n",
        "\"Com base nos gastos definidos, uma viagem de [dias] dias para [cidade] saindo de Recife custaria [gastos] reais\"\n",
        "'''\n",
        "def gasto_hotel(dias: int) -> float:\n",
        "  gastos = round(150 * dias, 2)\n",
        "  return gastos\n",
        "\n",
        "def gasto_gasolina(distancia: int) -> float:\n",
        "  kilometragem = distancia // 14\n",
        "  dinheiro_para_gasolina = kilometragem * 5\n",
        "  return 2*dinheiro_para_gasolina\n",
        "\n",
        "def gasto_passeio(cidade: str, dias: int) -> int:\n",
        "  match(cidade):\n",
        "    case'Salvador':\n",
        "      return 200 * dias\n",
        "    case'Fortaleza':\n",
        "      return 400 * dias\n",
        "    case'Natal':\n",
        "      return 250 * dias\n",
        "    case'Aracaju':\n",
        "      return 300 * dias\n",
        "    case _:\n",
        "      return 0\n",
        "\n",
        "def gasto_geral_de_recife(cidade:str, dias:int):\n",
        "  '''\n",
        "  Para saber o gasto de ida e volta a partir de Recife, usa outras 3 funções de gastos mais específicos\n",
        "  Parâmetro: str e int\n",
        "  Retorno: none | int\n",
        "  '''\n",
        "  match(cidade):\n",
        "    case'Salvador':\n",
        "      gasto_geral = gasto_hotel(dias) + gasto_gasolina(850) + gasto_passeio(cidade, dias)\n",
        "      round(gasto_geral,2)\n",
        "    case'Fortaleza':\n",
        "      gasto_geral = gasto_hotel(dias) + gasto_gasolina(800) + gasto_passeio(cidade, dias)\n",
        "      round(gasto_geral,2)\n",
        "    case'Natal':\n",
        "      gasto_geral = gasto_hotel(dias) + gasto_gasolina(300) + gasto_passeio(cidade, dias)\n",
        "      round(gasto_geral,2)\n",
        "    case'Aracaju':\n",
        "      gasto_geral = gasto_hotel(dias) + gasto_gasolina(550) + gasto_passeio(cidade, dias)\n",
        "      round(gasto_geral,2)\n",
        "    case _:\n",
        "      print('Inválido, cidade não está no catálogo')\n",
        "      return 0\n",
        "  print(f'Com base nos gastos definidos, uma viagem de {dias} dias para {cidade} saindo de Recife custaria {gasto_geral} reais')\n",
        "gasto_geral_de_recife('Salvador',3)"
      ],
      "metadata": {
        "id": "3O9zlFHJ3WpQ",
        "colab": {
          "base_uri": "https://localhost:8080/"
        },
        "outputId": "cabeac03-4117-4519-9333-7c4fb465e01a"
      },
      "execution_count": null,
      "outputs": [
        {
          "output_type": "stream",
          "name": "stdout",
          "text": [
            "Com base nos gastos definidos, uma viagem de 3 dias para Salvador saindo de Recife custaria 1650 reais\n"
          ]
        }
      ]
    },
    {
      "cell_type": "code",
      "source": [
        "'''\n",
        "10. Você iniciou um estágio em uma empresa que trabalha com processamento de linguagem natural (NLP).\n",
        "Sua líder requisitou que você criasse um trecho de código que recebe uma frase digitada pela pessoa usuária e filtre apenas as palavras com tamanho maior ou igual a 5,\n",
        "exibindo-as em uma lista. Essa demanda é voltada para a análise do padrão de comportamento de pessoas na escrita de palavras acima dessa quantidade de caracteres.\n",
        "\n",
        "    Dica: utilize as funções lambda e filter() para filtrar essas palavras. Lembrando que a função embutida filter() recebe uma função (no nosso exemplo uma função lambda)\n",
        "    e filtra um iterável de acordo com a função. Para tratar a frase use replace() para trocar a ',' '.', '!' e '?' por espaço.\n",
        "\n",
        "    Use a frase \"Aprender Python aqui na Alura é muito bom\" para testar o código.\n",
        "'''\n",
        "def filtro_maior_igual_5() -> list:\n",
        "  '''\n",
        "  Filtro que de acordo com a frase digitada pelo usuário, retorna uma lista com palavras com 5 ou mais caracteres.\n",
        "  Parâmetro: none\n",
        "  Retorno: lista\n",
        "  '''\n",
        "  frase = str(input('Digite a frase a ser filtrada: '))\n",
        "  palavras = frase.replace(',', ' ').replace('.', ' ').replace('!', ' ').replace('?' , ' ').split(' ')\n",
        "  palavras_filtradas = list(filter(lambda x: len(x)>=5,palavras))\n",
        "  return palavras_filtradas\n",
        "print(filtro_maior_igual_5())"
      ],
      "metadata": {
        "id": "AVHA1_rg3WFa",
        "colab": {
          "base_uri": "https://localhost:8080/"
        },
        "outputId": "dae73458-9d09-4b57-f04b-7758e32f766c"
      },
      "execution_count": null,
      "outputs": [
        {
          "output_type": "stream",
          "name": "stdout",
          "text": [
            "Digite a frase a ser filtrada: Aprender Python aqui na Alura é muito bons!\n",
            "['Aprender', 'Python', 'Alura', 'muito']\n"
          ]
        }
      ]
    },
    {
      "cell_type": "markdown",
      "source": [
        "## 3. Estruturas de Dados\n",
        "- Criar listas de listas e listas de tuplas.\n",
        "- Acessar e extrair listas e elementos de uma lista de listas.\n",
        "- Criar listas de diversas formas por meio do list comprehension.\n",
        "- Criar dicionários por meio do dict comprehension.\n",
        "- Trabalhar com listas de listas em dicionários.\n",
        "- Gerar um novo registro chave/valor em um dicionário."
      ],
      "metadata": {
        "id": "28H_h8voPgqw"
      }
    },
    {
      "cell_type": "markdown",
      "source": [
        "### Aquecimento\n",
        "\n",
        "1. Crie um código para imprimir a soma dos elementos de cada uma das listas contidas na seguinte lista:\n",
        "\n",
        "lista_de_listas = [[4,6,5,9], [1,0,7,2], [3,4,1,8]]\n",
        "\n",
        "2. Crie um código para gerar uma lista que armazena o terceiro elemento de cada tupla contida na seguinte lista de tuplas:\n",
        "\n",
        "lista_de_tuplas = [('Pedro', 1.74, 81), ('Júlia', 1.65, 67), ('Otávio', 1.81, 83)]\n",
        "\n",
        "3. A partir da lista: lista = ['Pedro', 'Júlia', 'Otávio', 'Eduardo'], crie um código para gerar uma lista de tuplas em que cada tupla tenha o primeiro elemento como a posição do nome na lista original e o segundo elemento sendo o próprio nome.\n",
        "\n",
        "4. Crie uma lista usando o list comprehension que armazena somente o valor numérico de cada tupla caso o primeiro elemento seja 'Apartamento', a partir da seguinte lista de tuplas:\n",
        "\n",
        "aluguel = [('Apartamento', 1700), ('Apartamento', 1400), ('Casa', 2150), ('Apartamento', 1900), ('Casa', 1100)]\n",
        "\n",
        "5. Crie um dicionário usando o dict comprehension em que as chaves estão na lista meses = ['Jan', 'Fev', 'Mar', 'Abr', 'Mai', 'Jun', 'Jul', 'Ago', 'Set', 'Out', 'Nov', 'Dez'] e os valores estão em despesa = [860, 490, 1010, 780, 900, 630, 590, 770, 620, 560, 840, 360]."
      ],
      "metadata": {
        "id": "233-QyafzLZK"
      }
    },
    {
      "cell_type": "code",
      "source": [
        "'''\n",
        "1. Crie um código para imprimir a soma dos elementos de cada uma das listas contidas na seguinte lista:\n",
        "\n",
        "lista_de_listas = [[4,6,5,9], [1,0,7,2], [3,4,1,8]]\n",
        "'''\n",
        "lista_de_listas = [[4,6,5,9], [1,0,7,2], [3,4,1,8]]\n",
        "for i in range(len(lista_de_listas)):\n",
        "  print(f'Soma da lista {i+1}: {sum(lista_de_listas[i])}')"
      ],
      "metadata": {
        "id": "QIWT-KkvzW7V",
        "colab": {
          "base_uri": "https://localhost:8080/",
          "height": 122
        },
        "outputId": "434e3823-f5a7-431c-fc5c-e4f3fe3a5926"
      },
      "execution_count": 3,
      "outputs": [
        {
          "output_type": "stream",
          "name": "stdout",
          "text": [
            "Soma da lista 1: 24\n",
            "Soma da lista 2: 10\n",
            "Soma da lista 3: 16\n",
            "[81, 67, 83]\n"
          ]
        },
        {
          "output_type": "execute_result",
          "data": {
            "text/plain": [
              "\"\\n5. Crie um dicionário usando o dict comprehension em que as chaves estão na lista\\nmeses = ['Jan', 'Fev', 'Mar', 'Abr', 'Mai', 'Jun', 'Jul', 'Ago', 'Set', 'Out', 'Nov', 'Dez'] e os\\nvalores estão em\\ndespesa = [860, 490, 1010, 780, 900, 630, 590, 770, 620, 560, 840, 360].\\n\""
            ],
            "application/vnd.google.colaboratory.intrinsic+json": {
              "type": "string"
            }
          },
          "metadata": {},
          "execution_count": 3
        }
      ]
    },
    {
      "cell_type": "code",
      "source": [
        "'''\n",
        "2. Crie um código para gerar uma lista que armazena o terceiro elemento de cada tupla contida na seguinte lista de tuplas:\n",
        "\n",
        "lista_de_tuplas = [('Pedro', 1.74, 81), ('Júlia', 1.65, 67), ('Otávio', 1.81, 83)]\n",
        "'''\n",
        "lista_de_tuplas = [('Pedro', 1.74, 81), ('Júlia', 1.65, 67), ('Otávio', 1.81, 83)]\n",
        "terceiros_elementos = [lista_de_tuplas[i][2] for i in range(len(lista_de_tuplas))]\n",
        "print(f'Lista com os terceiros elementos: {terceiros_elementos}')"
      ],
      "metadata": {
        "id": "MpC73fD-22Nj"
      },
      "execution_count": null,
      "outputs": []
    },
    {
      "cell_type": "code",
      "source": [
        "'''\n",
        "3. A partir da lista: lista = ['Pedro', 'Júlia', 'Otávio', 'Eduardo'],\n",
        "crie um código para gerar uma lista de tuplas em que cada tupla tenha\n",
        "o primeiro elemento como a posição do nome na lista original e o segundo elemento sendo o próprio nome.\n",
        "'''\n",
        "lista = ['Pedro', 'Júlia', 'Otávio', 'Eduardo']\n",
        "lista_de_tuplas = []\n",
        "for i in range(len(lista)):\n",
        "  lista_de_tuplas.append((i+1, lista[i]))\n",
        "print(f'A listagem dos nomes com suas respectivas posições: {lista_de_tuplas}')"
      ],
      "metadata": {
        "colab": {
          "base_uri": "https://localhost:8080/",
          "height": 70
        },
        "id": "AE0wRWrQ2-dE",
        "outputId": "7c0a296c-8593-4ef8-8107-68c936c40a6c"
      },
      "execution_count": 5,
      "outputs": [
        {
          "output_type": "stream",
          "name": "stdout",
          "text": [
            "[(1, 'Pedro'), (2, 'Júlia'), (3, 'Otávio'), (4, 'Eduardo')]\n"
          ]
        },
        {
          "output_type": "execute_result",
          "data": {
            "text/plain": [
              "\"\\n5. Crie um dicionário usando o dict comprehension em que as chaves estão na lista\\nmeses = ['Jan', 'Fev', 'Mar', 'Abr', 'Mai', 'Jun', 'Jul', 'Ago', 'Set', 'Out', 'Nov', 'Dez'] e os\\nvalores estão em\\ndespesa = [860, 490, 1010, 780, 900, 630, 590, 770, 620, 560, 840, 360].\\n\""
            ],
            "application/vnd.google.colaboratory.intrinsic+json": {
              "type": "string"
            }
          },
          "metadata": {},
          "execution_count": 5
        }
      ]
    },
    {
      "cell_type": "code",
      "source": [
        "'''\n",
        "4. Crie uma lista usando o list comprehension que armazena somente o valor numérico de cada tupla\n",
        "caso o primeiro elemento seja 'Apartamento', a partir da seguinte lista de tuplas:\n",
        "\n",
        "aluguel = [('Apartamento', 1700), ('Apartamento', 1400), ('Casa', 2150), ('Apartamento', 1900), ('Casa', 1100)]\n",
        "'''\n",
        "aluguel = [('Apartamento', 1700), ('Apartamento', 1400), ('Casa', 2150), ('Apartamento', 1900), ('Casa', 1100)]\n",
        "lista_apartamentos = [aluguel[i][1] for i in range(len(aluguel)) if aluguel[i][0]=='Apartamento']\n",
        "print(f'O aluguel dos apartamentos são: {lista_apartamentos}')"
      ],
      "metadata": {
        "colab": {
          "base_uri": "https://localhost:8080/",
          "height": 70
        },
        "id": "aEQpX2-l7Znr",
        "outputId": "b5588d9e-9b3e-4abb-91eb-b8247c8ce601"
      },
      "execution_count": 7,
      "outputs": [
        {
          "output_type": "stream",
          "name": "stdout",
          "text": [
            "[1700, 1400, 1900]\n"
          ]
        },
        {
          "output_type": "execute_result",
          "data": {
            "text/plain": [
              "\"\\n5. Crie um dicionário usando o dict comprehension em que as chaves estão na lista\\nmeses = ['Jan', 'Fev', 'Mar', 'Abr', 'Mai', 'Jun', 'Jul', 'Ago', 'Set', 'Out', 'Nov', 'Dez'] e os\\nvalores estão em\\ndespesa = [860, 490, 1010, 780, 900, 630, 590, 770, 620, 560, 840, 360].\\n\""
            ],
            "application/vnd.google.colaboratory.intrinsic+json": {
              "type": "string"
            }
          },
          "metadata": {},
          "execution_count": 7
        }
      ]
    },
    {
      "cell_type": "code",
      "source": [
        "'''\n",
        "5. Crie um dicionário usando o dict comprehension em que as chaves estão na lista\n",
        "meses = ['Jan', 'Fev', 'Mar', 'Abr', 'Mai', 'Jun', 'Jul', 'Ago', 'Set', 'Out', 'Nov', 'Dez'] e os\n",
        "valores estão em\n",
        "despesas = [860, 490, 1010, 780, 900, 630, 590, 770, 620, 560, 840, 360].\n",
        "'''\n",
        "meses = ['Jan', 'Fev', 'Mar', 'Abr', 'Mai', 'Jun', 'Jul', 'Ago', 'Set', 'Out', 'Nov', 'Dez']\n",
        "despesas = [860, 490, 1010, 780, 900, 630, 590, 770, 620, 560, 840, 360]\n",
        "meses_por_despesa = {mes:despesa for mes,despesa in zip(meses,despesas)}\n",
        "print(f'O dicionário de despesa por mês é: {meses_por_despesa}')"
      ],
      "metadata": {
        "colab": {
          "base_uri": "https://localhost:8080/"
        },
        "id": "9oPcrstkB3zm",
        "outputId": "fc1622c8-4418-43c6-9248-ba073471ba0b"
      },
      "execution_count": 8,
      "outputs": [
        {
          "output_type": "execute_result",
          "data": {
            "text/plain": [
              "{'Jan': 860,\n",
              " 'Fev': 490,\n",
              " 'Mar': 1010,\n",
              " 'Abr': 780,\n",
              " 'Mai': 900,\n",
              " 'Jun': 630,\n",
              " 'Jul': 590,\n",
              " 'Ago': 770,\n",
              " 'Set': 620,\n",
              " 'Out': 560,\n",
              " 'Nov': 840,\n",
              " 'Dez': 360}"
            ]
          },
          "metadata": {},
          "execution_count": 8
        }
      ]
    },
    {
      "cell_type": "markdown",
      "source": [
        "### Aplicando a projetos\n",
        "\n",
        "6. Uma loja possui um banco de dados com a informação de venda de cada representante e de cada ano e precisa filtrar somente os dados do ano 2022 com venda maior do que 6000. A loja forneceu uma amostra contendo apenas as colunas com os anos e os valores de venda para que você ajude a realizar a filtragem dos dados a partir de um código:\n",
        "\n",
        "vendas = [('2023', 4093), ('2021', 4320), ('2021', 5959), ('2022', 8883), ('2023', 9859), ('2022', 5141), ('2022', 7688), ('2022', 9544), ('2023', 4794), ('2021', 7178), ('2022', 3030), ('2021', 7471), ('2022', 4226), ('2022', 8190), ('2021', 9680), ('2022', 5616)]\n",
        "\n",
        "Crie uma lista usando list comprehension para filtrar os valores de 2022 e que sejam maiores que 6000.\n",
        "\n",
        "7. Uma clínica analisa dados de pacientes e armazena o valor numérico da glicose em um banco de dados e gostaria de rotular os dados da seguinte maneira:\n",
        "\n",
        "    Glicose igual ou inferior a 70: 'Hipoglicemia'\n",
        "    Glicose entre 70 a 99: 'Normal'\n",
        "    Glicose entre 100 e 125: 'Alterada'\n",
        "    Glicose superior a 125: 'Diabetes'\n",
        "\n",
        "A clínica disponibilizou parte dos valores e sua tarefa é criar uma lista de tuplas usando list comprehension contendo o rótulo e o valor da glicemia em cada tupla.\n",
        "\n",
        "glicemia = [129, 82, 60, 97, 101, 65, 62, 167, 87, 53, 58, 92, 66, 120, 109, 62, 86, 96, 103, 88, 155, 52, 89, 73]\n",
        "\n",
        "8. Um e-commerce possui as informações de id de venda, quantidade vendida e preço do produto divididos nas seguintes listas:\n",
        "\n",
        "id = [0, 1, 2, 3, 4, 5, 6, 7, 8, 9]\n",
        "quantidade = [15, 12, 1, 15, 2, 11, 2, 12, 2, 4]\n",
        "preco = [93.0, 102.0, 18.0, 41.0, 122.0, 14.0, 71.0, 48.0, 14.0, 144.0]\n",
        "\n",
        "O e-commerce precisa estruturar esses dados em uma tabela contendo o valor total da venda, que é obtida multiplicando a quantidade pelo preço unitário. Além disso, a tabela precisa conter um cabeçalho indicando as colunas: 'id', 'quantidade', 'preco' e 'total'.\n",
        "\n",
        "Crie uma lista de tuplas em que cada tupla tenha id, quantidade, preço e valor total, na qual a primeira tupla é o cabeçalho da tabela.\n",
        "\n",
        "9. Uma empresa possui filiais espalhadas nos Estados da região Sudeste do Brasil. Em uma das tabelas de cadastro das filiais há uma coluna contendo a informação de qual é o Estado a que pertence: estados = ['SP', 'ES', 'MG', 'MG', 'SP', 'MG', 'ES', 'ES', 'ES', 'SP', 'SP', 'MG', 'ES', 'SP', 'RJ', 'MG', 'RJ', 'SP', 'MG', 'SP', 'ES', 'SP', 'MG'].\n",
        "\n",
        "A empresa sempre está abrindo novas filiais, de modo que a tabela está constantemente recebendo novos registros e o gestor gostaria de possuir a informação atualizada da quantidade de filiais em cada Estado.\n",
        "\n",
        "A partir da coluna com a informação dos Estados, crie um dicionário usando dict comprehension com a chave sendo o nome de um Estado e o valor sendo a contagem de vezes em que o Estado aparece na lista.\n",
        "\n",
        "    Dica: Você pode fazer um passo intermediário para gerar uma lista de listas em que cada uma das listas possui o nome de apenas um Estado com valores repetidos.\n",
        "\n",
        "10. Nessa mesma tabela de cadastro de filiais, há uma coluna com as informações da quantidade de pessoas colaboradoras e o(a) gestor(a) gostaria de ter um agrupamento da soma dessas pessoas para cada estado. As informações contidas na tabela são:\n",
        "\n",
        "funcionarios = [('SP', 16), ('ES', 8), ('MG', 9), ('MG', 6), ('SP', 10), ('MG', 4), ('ES',9), ('ES', 7), ('ES', 12), ('SP', 7), ('SP', 11), ('MG',8), ('ES',8), ('SP',9), ('RJ', 13), ('MG', 5), ('RJ', 9), ('SP', 12), ('MG', 10), ('SP', 7), ('ES', 14), ('SP', 10), ('MG', 12)]\n",
        "\n",
        "A partir da lista de tuplas, crie um dicionário em que as chaves são os nomes dos Estados únicos e os valores são as listas com o número de colaboradores(as) referentes ao Estado. Crie também um dicionário em que as chaves são os nomes dos Estados e os valores são a soma de colaboradores(as) por Estado.\n",
        "\n",
        "    Dica: Você pode fazer um passo intermediário para gerar uma lista de listas em que cada uma das listas possui apenas os valores numéricos de funcionários(as) de cada Estado.\n"
      ],
      "metadata": {
        "id": "ICfgSJwZzSzN"
      }
    },
    {
      "cell_type": "code",
      "source": [
        "'''\n",
        "6. Uma loja possui um banco de dados com a informação de venda de cada representante e de cada ano\n",
        "e precisa filtrar somente os dados do ano 2022 com venda maior do que 6000.\n",
        "A loja forneceu uma amostra contendo apenas as colunas com os anos e os valores de venda para que você ajude a realizar a filtragem dos dados a partir de um código:\n",
        "\n",
        "vendas = [('2023', 4093), ('2021', 4320), ('2021', 5959), ('2022', 8883), ('2023', 9859), ('2022', 5141), ('2022', 7688), ('2022', 9544), ('2023', 4794), ('2021', 7178), ('2022', 3030), ('2021', 7471), ('2022', 4226), ('2022', 8190), ('2021', 9680), ('2022', 5616)]\n",
        "\n",
        "Crie uma lista usando list comprehension para filtrar os valores de 2022 e que sejam maiores que 6000.\n",
        "'''\n",
        "vendas = [('2023', 4093), ('2021', 4320), ('2021', 5959), ('2022', 8883), ('2023', 9859), ('2022', 5141), ('2022', 7688), ('2022', 9544), ('2023', 4794), ('2021', 7178), ('2022', 3030), ('2021', 7471), ('2022', 4226), ('2022', 8190), ('2021', 9680), ('2022', 5616)]\n",
        "valores_2022_maiores = [vendas[i][1] for i in range(len(vendas)) if vendas[i][0] == '2022' and vendas[i][1] > 6000]\n",
        "print(f'Valores de vendas do ano 2022 que foram maiores que 6000: {valores_2022_maiores}')"
      ],
      "metadata": {
        "colab": {
          "base_uri": "https://localhost:8080/"
        },
        "id": "iwsU0sxrLDdW",
        "outputId": "b02df5fd-43ef-4635-efba-79918040bd3c"
      },
      "execution_count": 9,
      "outputs": [
        {
          "output_type": "execute_result",
          "data": {
            "text/plain": [
              "[8883, 7688, 9544, 8190]"
            ]
          },
          "metadata": {},
          "execution_count": 9
        }
      ]
    },
    {
      "cell_type": "code",
      "source": [
        "'''\n",
        "7. Uma clínica analisa dados de pacientes e armazena o valor numérico da glicose em um banco de dados e gostaria de rotular os dados da seguinte maneira:\n",
        "\n",
        "    Glicose igual ou inferior a 70: 'Hipoglicemia'\n",
        "    Glicose entre 70 a 99: 'Normal'\n",
        "    Glicose entre 100 e 125: 'Alterada'\n",
        "    Glicose superior a 125: 'Diabetes'\n",
        "\n",
        "A clínica disponibilizou parte dos valores e sua tarefa é criar uma lista de tuplas usando list comprehension contendo o rótulo e o valor da glicemia em cada tupla.\n",
        "\n",
        "glicemia = [129, 82, 60, 97, 101, 65, 62, 167, 87, 53, 58, 92, 66, 120, 109, 62, 86, 96, 103, 88, 155, 52, 89, 73]\n",
        "'''\n",
        "glicemia = [129, 82, 60, 97, 101, 65, 62, 167, 87, 53, 58, 92, 66, 120, 109, 62, 86, 96, 103, 88, 155, 52, 89, 73]\n",
        "rotulacoes = []\n",
        "for glicose in glicemia:\n",
        "  if(glicose <= 70):\n",
        "    rotulacoes.append('Hipoglicemia')\n",
        "  elif(glicose < 100):\n",
        "    rotulacoes.append('Normal')\n",
        "  elif(glicose < 126):\n",
        "    rotulacoes.append('Alterada')\n",
        "  else:\n",
        "    rotulacoes.append('Diabetes')\n",
        "niveis_glicose = [(rotulo, glicemia) for rotulo,glicemia in zip(rotulacoes, glicemia)]\n",
        "(f'A tupla de Rótulos e níveis de glicemia é: {niveis_glicose}')"
      ],
      "metadata": {
        "colab": {
          "base_uri": "https://localhost:8080/"
        },
        "id": "-8d3h24GMu9h",
        "outputId": "2457f8bc-7adb-48f4-9f43-9dda49435df2"
      },
      "execution_count": 1,
      "outputs": [
        {
          "output_type": "execute_result",
          "data": {
            "text/plain": [
              "[('Diabetes', 129),\n",
              " ('Normal', 82),\n",
              " ('Hipoglicemia', 60),\n",
              " ('Normal', 97),\n",
              " ('Alterada', 101),\n",
              " ('Hipoglicemia', 65),\n",
              " ('Hipoglicemia', 62),\n",
              " ('Diabetes', 167),\n",
              " ('Normal', 87),\n",
              " ('Hipoglicemia', 53),\n",
              " ('Hipoglicemia', 58),\n",
              " ('Normal', 92),\n",
              " ('Hipoglicemia', 66),\n",
              " ('Alterada', 120),\n",
              " ('Alterada', 109),\n",
              " ('Hipoglicemia', 62),\n",
              " ('Normal', 86),\n",
              " ('Normal', 96),\n",
              " ('Alterada', 103),\n",
              " ('Normal', 88),\n",
              " ('Diabetes', 155),\n",
              " ('Hipoglicemia', 52),\n",
              " ('Normal', 89),\n",
              " ('Normal', 73)]"
            ]
          },
          "metadata": {},
          "execution_count": 1
        }
      ]
    },
    {
      "cell_type": "code",
      "source": [
        "'''\n",
        "8. Um e-commerce possui as informações de id de venda, quantidade vendida e preço do produto divididos nas seguintes listas:\n",
        "\n",
        "id = [0, 1, 2, 3, 4, 5, 6, 7, 8, 9]\n",
        "quantidade = [15, 12, 1, 15, 2, 11, 2, 12, 2, 4]\n",
        "preco = [93.0, 102.0, 18.0, 41.0, 122.0, 14.0, 71.0, 48.0, 14.0, 144.0]\n",
        "\n",
        "O e-commerce precisa estruturar esses dados em uma tabela contendo o valor total da venda,\n",
        "que é obtida multiplicando a quantidade pelo preço unitário.\n",
        "Além disso, a tabela precisa conter um cabeçalho indicando as colunas: 'id', 'quantidade', 'preco' e 'total'.\n",
        "\n",
        "Crie uma lista de tuplas em que cada tupla tenha id, quantidade, preço e valor total, na qual a primeira tupla é o cabeçalho da tabela.\n",
        "'''\n",
        "id = [0, 1, 2, 3, 4, 5, 6, 7, 8, 9]\n",
        "quantidade = [15, 12, 1, 15, 2, 11, 2, 12, 2, 4]\n",
        "preco = [93.0, 102.0, 18.0, 41.0, 122.0, 14.0, 71.0, 48.0, 14.0, 144.0]\n",
        "tuplas_e_commerce = [('id','Quantidade','Preço','Total')]\n",
        "for i in range(len(id)):\n",
        "  tuplas_e_commerce.append((id[i], quantidade[i], preco[i], quantidade[i]*preco[i]))\n",
        "tuplas_e_commerce"
      ],
      "metadata": {
        "colab": {
          "base_uri": "https://localhost:8080/"
        },
        "id": "C2IfIFaix_cp",
        "outputId": "3d8a344e-0082-4071-a186-8723038807bf"
      },
      "execution_count": 5,
      "outputs": [
        {
          "output_type": "execute_result",
          "data": {
            "text/plain": [
              "[('id', 'Quantidade', 'Preço', 'Total'),\n",
              " (0, 15, 93.0, 1395.0),\n",
              " (1, 12, 102.0, 1224.0),\n",
              " (2, 1, 18.0, 18.0),\n",
              " (3, 15, 41.0, 615.0),\n",
              " (4, 2, 122.0, 244.0),\n",
              " (5, 11, 14.0, 154.0),\n",
              " (6, 2, 71.0, 142.0),\n",
              " (7, 12, 48.0, 576.0),\n",
              " (8, 2, 14.0, 28.0),\n",
              " (9, 4, 144.0, 576.0)]"
            ]
          },
          "metadata": {},
          "execution_count": 5
        }
      ]
    },
    {
      "cell_type": "code",
      "source": [
        "'''\n",
        "9. Uma empresa possui filiais espalhadas nos Estados da região Sudeste do Brasil.\n",
        "Em uma das tabelas de cadastro das filiais há uma coluna contendo a informação de qual é o Estado a que pertence:\n",
        "estados = ['SP', 'ES', 'MG', 'MG', 'SP', 'MG', 'ES', 'ES', 'ES', 'SP', 'SP', 'MG', 'ES', 'SP', 'RJ', 'MG', 'RJ', 'SP', 'MG', 'SP', 'ES', 'SP', 'MG'].\n",
        "\n",
        "A empresa sempre está abrindo novas filiais, de modo que a tabela está constantemente recebendo novos registros\n",
        "e o gestor gostaria de possuir a informação atualizada da quantidade de filiais em cada Estado.\n",
        "\n",
        "A partir da coluna com a informação dos Estados, crie um dicionário usando dict comprehension\n",
        "com a chave sendo o nome de um Estado e o valor sendo a contagem de vezes em que o Estado aparece na lista.\n",
        "\n",
        "  Dica: Você pode fazer um passo intermediário para gerar uma lista de listas em que cada uma das listas possui o nome de apenas um Estado com valores repetidos.\n",
        "'''\n",
        "estados = ['SP', 'ES', 'MG', 'MG', 'SP', 'MG', 'ES', 'ES', 'ES', 'SP', 'SP', 'MG', 'ES', 'SP', 'RJ', 'MG', 'RJ', 'SP', 'MG', 'SP', 'ES', 'SP', 'MG']\n",
        "estados_set = set(estados)\n",
        "qtd_por_estados = {estado:0 for estado in estados_set}\n",
        "for estado in estados:\n",
        "  qtd_por_estados.update({estado: qtd_por_estados[estado]+1})\n",
        "qtd_por_estados"
      ],
      "metadata": {
        "colab": {
          "base_uri": "https://localhost:8080/"
        },
        "id": "gq_kbOHR-QXD",
        "outputId": "ba1a13fe-9066-4278-cafc-3fee945e22d1"
      },
      "execution_count": 15,
      "outputs": [
        {
          "output_type": "execute_result",
          "data": {
            "text/plain": [
              "{'MG': 7, 'SP': 8, 'ES': 6, 'RJ': 2}"
            ]
          },
          "metadata": {},
          "execution_count": 15
        }
      ]
    },
    {
      "cell_type": "code",
      "source": [
        "'''\n",
        "10. Nessa mesma tabela de cadastro de filiais, há uma coluna com as informações da quantidade de pessoas colaboradoras\n",
        "e o(a) gestor(a) gostaria de ter um agrupamento da soma dessas pessoas para cada estado. As informações contidas na tabela são:\n",
        "\n",
        "funcionarios = [('SP', 16), ('ES', 8), ('MG', 9), ('MG', 6), ('SP', 10), ('MG', 4), ('ES',9), ('ES', 7), ('ES', 12), ('SP', 7), ('SP', 11), ('MG',8), ('ES',8), ('SP',9), ('RJ', 13), ('MG', 5), ('RJ', 9), ('SP', 12), ('MG', 10), ('SP', 7), ('ES', 14), ('SP', 10), ('MG', 12)]\n",
        "\n",
        "A partir da lista de tuplas, crie um dicionário em que as chaves são os nomes dos Estados únicos\n",
        "e os valores são as listas com o número de colaboradores(as) referentes ao Estado.\n",
        "Crie também um dicionário em que as chaves são os nomes dos Estados e os valores são a soma de colaboradores(as) por Estado.\n",
        "  Dica: Você pode fazer um passo intermediário para gerar uma lista de listas em que cada uma das listas possui apenas os valores numéricos de funcionários(as) de cada Estado.\n",
        "'''\n",
        "'''\n",
        "Tentativa de solução\n",
        "funcionarios = [('SP', 16), ('ES', 8), ('MG', 9), ('MG', 6), ('SP', 10), ('MG', 4), ('ES',9), ('ES', 7), ('ES', 12), ('SP', 7), ('SP', 11), ('MG',8), ('ES',8), ('SP',9), ('RJ', 13), ('MG', 5), ('RJ', 9), ('SP', 12), ('MG', 10), ('SP', 7), ('ES', 14), ('SP', 10), ('MG', 12)]\n",
        "funcionarios_por_estado = {}\n",
        "listas_funcionarios = {}\n",
        "for tupla in funcionarios:\n",
        "  chaves = funcionarios_por_estado.keys()\n",
        "  valor_tupla = tupla[1]\n",
        "  if(tupla[0] in chaves):\n",
        "    funcionarios_por_estado.update({tupla[0]:funcionarios_por_estado[tupla[0]]+valor_tupla})\n",
        "    listas_funcionarios.update({tupla[0]:list(listas_funcionarios[tupla[0]]).append(valor_tupla)})\n",
        "    continue\n",
        "  funcionarios_por_estado.update({tupla[0]:tupla[1]})\n",
        "  listas_funcionarios.update({tupla[0]:[].append(valor_tupla)})\n",
        "  print(listas_funcionarios)\n",
        "print(f'Funcionários por Estado: {funcionarios_por_estado}')\n",
        "print(f'Listas da Quantidade de Funcionários: {listas_funcionarios}')\n",
        "'''\n",
        "# Resposta do problema:\n",
        "\n",
        "funcionarios = [('SP', 16), ('ES', 8), ('MG', 9), ('MG', 6), ('SP', 10), ('MG', 4), ('ES',9), ('ES', 7), ('ES', 12), ('SP', 7), ('SP', 11), ('MG',8), ('ES',8), ('SP',9), ('RJ', 13), ('MG', 5), ('RJ', 9), ('SP', 12), ('MG', 10), ('SP', 7), ('ES', 14), ('SP', 10), ('MG', 12)]\n",
        "# Armazenando os estados sem repetição de valor\n",
        "estados_unicos = list(set([tupla[0] for tupla in funcionarios]))\n",
        "\n",
        "# Criando uma lista de listas com valores de funcionários de cada estado\n",
        "lista_de_listas = []\n",
        "for estado in estados_unicos:\n",
        "    lista = [tupla[1] for tupla in funcionarios if tupla[0] == estado]\n",
        "    lista_de_listas.append(lista)\n",
        "print(lista_de_listas)\n",
        "\n",
        "# Criando um dicionário com dados agrupados de funcionário por estado\n",
        "agrupamento_por_estado = {estados_unicos[i]: lista_de_listas[i] for i in range(len(estados_unicos))}\n",
        "print(agrupamento_por_estado)\n",
        "\n",
        "# Criando um dicionário com a soma de funcionários por estado\n",
        "soma_por_estado = {estados_unicos[i]: sum(lista_de_listas[i]) for i in range(len(estados_unicos))}\n",
        "print(soma_por_estado)\n"
      ],
      "metadata": {
        "colab": {
          "base_uri": "https://localhost:8080/"
        },
        "id": "KnALhFzRewmO",
        "outputId": "75dcc53f-dfde-4081-a9cb-761c63c5baca"
      },
      "execution_count": 2,
      "outputs": [
        {
          "output_type": "stream",
          "name": "stdout",
          "text": [
            "[[16, 10, 7, 11, 9, 12, 7, 10], [8, 9, 7, 12, 8, 14], [9, 6, 4, 8, 5, 10, 12], [13, 9]]\n",
            "{'SP': [16, 10, 7, 11, 9, 12, 7, 10], 'ES': [8, 9, 7, 12, 8, 14], 'MG': [9, 6, 4, 8, 5, 10, 12], 'RJ': [13, 9]}\n",
            "{'SP': 82, 'ES': 58, 'MG': 54, 'RJ': 22}\n"
          ]
        }
      ]
    }
  ]
}